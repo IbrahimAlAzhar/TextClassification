{
 "cells": [
  {
   "cell_type": "code",
   "execution_count": 1,
   "metadata": {
    "colab": {
     "base_uri": "https://localhost:8080/",
     "height": 34
    },
    "executionInfo": {
     "elapsed": 28881,
     "status": "ok",
     "timestamp": 1602273341306,
     "user": {
      "displayName": "ibrahim al azhar",
      "photoUrl": "https://lh3.googleusercontent.com/a-/AOh14GhcTQUbimVsO7p7wRuyYZSNKei7erJoiKLzcwQ3eoY=s64",
      "userId": "00085534427974934913"
     },
     "user_tz": -360
    },
    "id": "UlO3mCDkPzGd",
    "outputId": "93f1d81b-6a4d-4c8b-b4f7-79045c8780e1"
   },
   "outputs": [
    {
     "name": "stdout",
     "output_type": "stream",
     "text": [
      "Mounted at /content/gdrive\n"
     ]
    }
   ],
   "source": [
    "from google.colab import drive\n",
    "drive.mount('/content/gdrive')"
   ]
  },
  {
   "cell_type": "code",
   "execution_count": 2,
   "metadata": {
    "colab": {
     "base_uri": "https://localhost:8080/",
     "height": 1000
    },
    "executionInfo": {
     "elapsed": 11637,
     "status": "ok",
     "timestamp": 1602273356010,
     "user": {
      "displayName": "ibrahim al azhar",
      "photoUrl": "https://lh3.googleusercontent.com/a-/AOh14GhcTQUbimVsO7p7wRuyYZSNKei7erJoiKLzcwQ3eoY=s64",
      "userId": "00085534427974934913"
     },
     "user_tz": -360
    },
    "id": "7kLsi0deS9i_",
    "outputId": "a5d332da-54a2-4301-8496-765d56e2f844"
   },
   "outputs": [
    {
     "name": "stdout",
     "output_type": "stream",
     "text": [
      "Collecting fastai==1.0.52\n",
      "\u001b[?25l  Downloading https://files.pythonhosted.org/packages/de/07/7203179ba2f211bfbda364f883f645aea4d09ccfd48ce5dbb00a894722bf/fastai-1.0.52-py3-none-any.whl (219kB)\n",
      "\r",
      "\u001b[K     |█▌                              | 10kB 28.0MB/s eta 0:00:01\r",
      "\u001b[K     |███                             | 20kB 4.1MB/s eta 0:00:01\r",
      "\u001b[K     |████▌                           | 30kB 5.0MB/s eta 0:00:01\r",
      "\u001b[K     |██████                          | 40kB 5.8MB/s eta 0:00:01\r",
      "\u001b[K     |███████▌                        | 51kB 4.7MB/s eta 0:00:01\r",
      "\u001b[K     |█████████                       | 61kB 5.2MB/s eta 0:00:01\r",
      "\u001b[K     |██████████▍                     | 71kB 5.8MB/s eta 0:00:01\r",
      "\u001b[K     |████████████                    | 81kB 6.2MB/s eta 0:00:01\r",
      "\u001b[K     |█████████████▍                  | 92kB 5.9MB/s eta 0:00:01\r",
      "\u001b[K     |███████████████                 | 102kB 6.1MB/s eta 0:00:01\r",
      "\u001b[K     |████████████████▍               | 112kB 6.1MB/s eta 0:00:01\r",
      "\u001b[K     |█████████████████▉              | 122kB 6.1MB/s eta 0:00:01\r",
      "\u001b[K     |███████████████████▍            | 133kB 6.1MB/s eta 0:00:01\r",
      "\u001b[K     |████████████████████▉           | 143kB 6.1MB/s eta 0:00:01\r",
      "\u001b[K     |██████████████████████▍         | 153kB 6.1MB/s eta 0:00:01\r",
      "\u001b[K     |███████████████████████▉        | 163kB 6.1MB/s eta 0:00:01\r",
      "\u001b[K     |█████████████████████████▎      | 174kB 6.1MB/s eta 0:00:01\r",
      "\u001b[K     |██████████████████████████▉     | 184kB 6.1MB/s eta 0:00:01\r",
      "\u001b[K     |████████████████████████████▎   | 194kB 6.1MB/s eta 0:00:01\r",
      "\u001b[K     |█████████████████████████████▉  | 204kB 6.1MB/s eta 0:00:01\r",
      "\u001b[K     |███████████████████████████████▎| 215kB 6.1MB/s eta 0:00:01\r",
      "\u001b[K     |████████████████████████████████| 225kB 6.1MB/s \n",
      "\u001b[?25hRequirement already satisfied: fastprogress>=0.1.19 in /usr/local/lib/python3.6/dist-packages (from fastai==1.0.52) (1.0.0)\n",
      "Requirement already satisfied: beautifulsoup4 in /usr/local/lib/python3.6/dist-packages (from fastai==1.0.52) (4.6.3)\n",
      "Requirement already satisfied: packaging in /usr/local/lib/python3.6/dist-packages (from fastai==1.0.52) (20.4)\n",
      "Requirement already satisfied: pyyaml in /usr/local/lib/python3.6/dist-packages (from fastai==1.0.52) (3.13)\n",
      "Requirement already satisfied: matplotlib in /usr/local/lib/python3.6/dist-packages (from fastai==1.0.52) (3.2.2)\n",
      "Requirement already satisfied: numexpr in /usr/local/lib/python3.6/dist-packages (from fastai==1.0.52) (2.7.1)\n",
      "Requirement already satisfied: pandas in /usr/local/lib/python3.6/dist-packages (from fastai==1.0.52) (1.1.2)\n",
      "Requirement already satisfied: requests in /usr/local/lib/python3.6/dist-packages (from fastai==1.0.52) (2.23.0)\n",
      "Requirement already satisfied: torch>=1.0.0 in /usr/local/lib/python3.6/dist-packages (from fastai==1.0.52) (1.6.0+cu101)\n",
      "Requirement already satisfied: dataclasses; python_version < \"3.7\" in /usr/local/lib/python3.6/dist-packages (from fastai==1.0.52) (0.7)\n",
      "Requirement already satisfied: bottleneck in /usr/local/lib/python3.6/dist-packages (from fastai==1.0.52) (1.3.2)\n",
      "Collecting typing\n",
      "\u001b[?25l  Downloading https://files.pythonhosted.org/packages/05/d9/6eebe19d46bd05360c9a9aae822e67a80f9242aabbfc58b641b957546607/typing-3.7.4.3.tar.gz (78kB)\n",
      "\u001b[K     |████████████████████████████████| 81kB 7.7MB/s \n",
      "\u001b[?25hRequirement already satisfied: torchvision in /usr/local/lib/python3.6/dist-packages (from fastai==1.0.52) (0.7.0+cu101)\n",
      "Requirement already satisfied: Pillow in /usr/local/lib/python3.6/dist-packages (from fastai==1.0.52) (7.0.0)\n",
      "Requirement already satisfied: numpy>=1.15 in /usr/local/lib/python3.6/dist-packages (from fastai==1.0.52) (1.18.5)\n",
      "Requirement already satisfied: spacy>=2.0.18 in /usr/local/lib/python3.6/dist-packages (from fastai==1.0.52) (2.2.4)\n",
      "Requirement already satisfied: nvidia-ml-py3 in /usr/local/lib/python3.6/dist-packages (from fastai==1.0.52) (7.352.0)\n",
      "Requirement already satisfied: scipy in /usr/local/lib/python3.6/dist-packages (from fastai==1.0.52) (1.4.1)\n",
      "Requirement already satisfied: six in /usr/local/lib/python3.6/dist-packages (from packaging->fastai==1.0.52) (1.15.0)\n",
      "Requirement already satisfied: pyparsing>=2.0.2 in /usr/local/lib/python3.6/dist-packages (from packaging->fastai==1.0.52) (2.4.7)\n",
      "Requirement already satisfied: kiwisolver>=1.0.1 in /usr/local/lib/python3.6/dist-packages (from matplotlib->fastai==1.0.52) (1.2.0)\n",
      "Requirement already satisfied: python-dateutil>=2.1 in /usr/local/lib/python3.6/dist-packages (from matplotlib->fastai==1.0.52) (2.8.1)\n",
      "Requirement already satisfied: cycler>=0.10 in /usr/local/lib/python3.6/dist-packages (from matplotlib->fastai==1.0.52) (0.10.0)\n",
      "Requirement already satisfied: pytz>=2017.2 in /usr/local/lib/python3.6/dist-packages (from pandas->fastai==1.0.52) (2018.9)\n",
      "Requirement already satisfied: certifi>=2017.4.17 in /usr/local/lib/python3.6/dist-packages (from requests->fastai==1.0.52) (2020.6.20)\n",
      "Requirement already satisfied: chardet<4,>=3.0.2 in /usr/local/lib/python3.6/dist-packages (from requests->fastai==1.0.52) (3.0.4)\n",
      "Requirement already satisfied: urllib3!=1.25.0,!=1.25.1,<1.26,>=1.21.1 in /usr/local/lib/python3.6/dist-packages (from requests->fastai==1.0.52) (1.24.3)\n",
      "Requirement already satisfied: idna<3,>=2.5 in /usr/local/lib/python3.6/dist-packages (from requests->fastai==1.0.52) (2.10)\n",
      "Requirement already satisfied: future in /usr/local/lib/python3.6/dist-packages (from torch>=1.0.0->fastai==1.0.52) (0.16.0)\n",
      "Requirement already satisfied: murmurhash<1.1.0,>=0.28.0 in /usr/local/lib/python3.6/dist-packages (from spacy>=2.0.18->fastai==1.0.52) (1.0.2)\n",
      "Requirement already satisfied: plac<1.2.0,>=0.9.6 in /usr/local/lib/python3.6/dist-packages (from spacy>=2.0.18->fastai==1.0.52) (1.1.3)\n",
      "Requirement already satisfied: cymem<2.1.0,>=2.0.2 in /usr/local/lib/python3.6/dist-packages (from spacy>=2.0.18->fastai==1.0.52) (2.0.3)\n",
      "Requirement already satisfied: tqdm<5.0.0,>=4.38.0 in /usr/local/lib/python3.6/dist-packages (from spacy>=2.0.18->fastai==1.0.52) (4.41.1)\n",
      "Requirement already satisfied: catalogue<1.1.0,>=0.0.7 in /usr/local/lib/python3.6/dist-packages (from spacy>=2.0.18->fastai==1.0.52) (1.0.0)\n",
      "Requirement already satisfied: preshed<3.1.0,>=3.0.2 in /usr/local/lib/python3.6/dist-packages (from spacy>=2.0.18->fastai==1.0.52) (3.0.2)\n",
      "Requirement already satisfied: srsly<1.1.0,>=1.0.2 in /usr/local/lib/python3.6/dist-packages (from spacy>=2.0.18->fastai==1.0.52) (1.0.2)\n",
      "Requirement already satisfied: setuptools in /usr/local/lib/python3.6/dist-packages (from spacy>=2.0.18->fastai==1.0.52) (50.3.0)\n",
      "Requirement already satisfied: blis<0.5.0,>=0.4.0 in /usr/local/lib/python3.6/dist-packages (from spacy>=2.0.18->fastai==1.0.52) (0.4.1)\n",
      "Requirement already satisfied: wasabi<1.1.0,>=0.4.0 in /usr/local/lib/python3.6/dist-packages (from spacy>=2.0.18->fastai==1.0.52) (0.8.0)\n",
      "Requirement already satisfied: thinc==7.4.0 in /usr/local/lib/python3.6/dist-packages (from spacy>=2.0.18->fastai==1.0.52) (7.4.0)\n",
      "Requirement already satisfied: importlib-metadata>=0.20; python_version < \"3.8\" in /usr/local/lib/python3.6/dist-packages (from catalogue<1.1.0,>=0.0.7->spacy>=2.0.18->fastai==1.0.52) (2.0.0)\n",
      "Requirement already satisfied: zipp>=0.5 in /usr/local/lib/python3.6/dist-packages (from importlib-metadata>=0.20; python_version < \"3.8\"->catalogue<1.1.0,>=0.0.7->spacy>=2.0.18->fastai==1.0.52) (3.2.0)\n",
      "Building wheels for collected packages: typing\n",
      "  Building wheel for typing (setup.py) ... \u001b[?25l\u001b[?25hdone\n",
      "  Created wheel for typing: filename=typing-3.7.4.3-cp36-none-any.whl size=26307 sha256=b0369a726e5277a9288e0ae1fa6864414b29a265419d263b1eb7d8a4c56536fc\n",
      "  Stored in directory: /root/.cache/pip/wheels/2d/04/41/8e1836e79581989c22eebac3f4e70aaac9af07b0908da173be\n",
      "Successfully built typing\n",
      "Installing collected packages: typing, fastai\n",
      "  Found existing installation: fastai 1.0.61\n",
      "    Uninstalling fastai-1.0.61:\n",
      "      Successfully uninstalled fastai-1.0.61\n",
      "Successfully installed fastai-1.0.52 typing-3.7.4.3\n"
     ]
    },
    {
     "data": {
      "application/vnd.colab-display-data+json": {
       "pip_warning": {
        "packages": [
         "typing"
        ]
       }
      }
     },
     "metadata": {
      "tags": []
     },
     "output_type": "display_data"
    }
   ],
   "source": [
    "!pip install fastai==1.0.52\n",
    "from fastai.text import *"
   ]
  },
  {
   "cell_type": "code",
   "execution_count": 3,
   "metadata": {
    "executionInfo": {
     "elapsed": 970,
     "status": "ok",
     "timestamp": 1602273363365,
     "user": {
      "displayName": "ibrahim al azhar",
      "photoUrl": "https://lh3.googleusercontent.com/a-/AOh14GhcTQUbimVsO7p7wRuyYZSNKei7erJoiKLzcwQ3eoY=s64",
      "userId": "00085534427974934913"
     },
     "user_tz": -360
    },
    "id": "0NDE6Pp0fWR0"
   },
   "outputs": [],
   "source": [
    "# don't need for run\n",
    "import os # set the all path where store the datasets\n",
    "path = Path(os.getcwd())\n",
    "path = path/'gdrive'/'My Drive'\n",
    "# news=path/'Thesis Data'/'full doc csv'\n",
    "aa=path/'Thesis Data'/'Our dataset'\n",
    "# aa=path/'Thesis Data'/'Our dataset'\n",
    "# aa2=path/'Thesis Data'/'AA dataset'\n",
    "# char=path/'Thesis Data'/'char-ulm'"
   ]
  },
  {
   "cell_type": "code",
   "execution_count": null,
   "metadata": {
    "id": "X7p-jGCBfWZv"
   },
   "outputs": [],
   "source": [
    "# aa = '/content/drive/My Drive/Colab Notebooks'\n",
    "\n"
   ]
  },
  {
   "cell_type": "code",
   "execution_count": 4,
   "metadata": {
    "executionInfo": {
     "elapsed": 1132,
     "status": "ok",
     "timestamp": 1602273368529,
     "user": {
      "displayName": "ibrahim al azhar",
      "photoUrl": "https://lh3.googleusercontent.com/a-/AOh14GhcTQUbimVsO7p7wRuyYZSNKei7erJoiKLzcwQ3eoY=s64",
      "userId": "00085534427974934913"
     },
     "user_tz": -360
    },
    "id": "dojv1m8LfWkp"
   },
   "outputs": [],
   "source": [
    "bs = 32\n",
    "bptt = 70\n",
    "vocab = \" !\\\"#$%&'()*+,-./0123456789:;=<>?@ABCDEFGHIJKLMNOPQRSTUVWXYZ[]^_`abcdefghijklmnopqrstuvwxyz{|}~¥§©±ঃঅআইঈউঊঋএঐওঔকখগঘঙচছজঝঞটঠডঢণতথদধনপফবভমযরলশষসহ়ািীুূৃেৈোৌ্ৎৗড়ঢ়য়০১২৩৪৫৬৭৮৯৷‘’‚“”‪™−√∝∞\"  # set all things in vocab "
   ]
  },
  {
   "cell_type": "code",
   "execution_count": 6,
   "metadata": {
    "executionInfo": {
     "elapsed": 1208,
     "status": "ok",
     "timestamp": 1602273390417,
     "user": {
      "displayName": "ibrahim al azhar",
      "photoUrl": "https://lh3.googleusercontent.com/a-/AOh14GhcTQUbimVsO7p7wRuyYZSNKei7erJoiKLzcwQ3eoY=s64",
      "userId": "00085534427974934913"
     },
     "user_tz": -360
    },
    "id": "CXdgOWH-fWXW"
   },
   "outputs": [],
   "source": [
    "class NewTokenizer(BaseTokenizer):\n",
    "    def tokenizer(self,t):\n",
    "      return [BOS]+[i for i in t]"
   ]
  },
  {
   "cell_type": "code",
   "execution_count": 7,
   "metadata": {
    "executionInfo": {
     "elapsed": 1328,
     "status": "ok",
     "timestamp": 1602273393537,
     "user": {
      "displayName": "ibrahim al azhar",
      "photoUrl": "https://lh3.googleusercontent.com/a-/AOh14GhcTQUbimVsO7p7wRuyYZSNKei7erJoiKLzcwQ3eoY=s64",
      "userId": "00085534427974934913"
     },
     "user_tz": -360
    },
    "id": "7jaI5Q55iXWW"
   },
   "outputs": [],
   "source": [
    "itos = [UNK, PAD, BOS, EOS, FLD, TK_REP, TK_WREP] + [i for i in vocab]"
   ]
  },
  {
   "cell_type": "code",
   "execution_count": 8,
   "metadata": {
    "colab": {
     "base_uri": "https://localhost:8080/",
     "height": 34
    },
    "executionInfo": {
     "elapsed": 957,
     "status": "ok",
     "timestamp": 1602273397226,
     "user": {
      "displayName": "ibrahim al azhar",
      "photoUrl": "https://lh3.googleusercontent.com/a-/AOh14GhcTQUbimVsO7p7wRuyYZSNKei7erJoiKLzcwQ3eoY=s64",
      "userId": "00085534427974934913"
     },
     "user_tz": -360
    },
    "id": "YQpG5gG-iaAs",
    "outputId": "4f1fc387-549d-4265-a8c0-2962ea01e52e"
   },
   "outputs": [
    {
     "data": {
      "text/plain": [
       "188"
      ]
     },
     "execution_count": 8,
     "metadata": {
      "tags": []
     },
     "output_type": "execute_result"
    }
   ],
   "source": [
    "len(itos)"
   ]
  },
  {
   "cell_type": "code",
   "execution_count": 9,
   "metadata": {
    "executionInfo": {
     "elapsed": 1148,
     "status": "ok",
     "timestamp": 1602273401220,
     "user": {
      "displayName": "ibrahim al azhar",
      "photoUrl": "https://lh3.googleusercontent.com/a-/AOh14GhcTQUbimVsO7p7wRuyYZSNKei7erJoiKLzcwQ3eoY=s64",
      "userId": "00085534427974934913"
     },
     "user_tz": -360
    },
    "id": "UvC96lCjicr1"
   },
   "outputs": [],
   "source": [
    "vocab=Vocab(itos)\n",
    "tokenizer=Tokenizer(NewTokenizer, pre_rules=[], post_rules=[]) # create a instance of 'NewTokenizer' class"
   ]
  },
  {
   "cell_type": "code",
   "execution_count": 10,
   "metadata": {
    "colab": {
     "base_uri": "https://localhost:8080/",
     "height": 17
    },
    "executionInfo": {
     "elapsed": 63401,
     "status": "ok",
     "timestamp": 1602273466853,
     "user": {
      "displayName": "ibrahim al azhar",
      "photoUrl": "https://lh3.googleusercontent.com/a-/AOh14GhcTQUbimVsO7p7wRuyYZSNKei7erJoiKLzcwQ3eoY=s64",
      "userId": "00085534427974934913"
     },
     "user_tz": -360
    },
    "id": "l3Rj5dhSijdc",
    "outputId": "aebfa628-c27b-4bbc-97a4-c8e645d71fc3"
   },
   "outputs": [
    {
     "data": {
      "text/html": [],
      "text/plain": [
       "<IPython.core.display.HTML object>"
      ]
     },
     "metadata": {
      "tags": []
     },
     "output_type": "display_data"
    },
    {
     "data": {
      "text/html": [],
      "text/plain": [
       "<IPython.core.display.HTML object>"
      ]
     },
     "metadata": {
      "tags": []
     },
     "output_type": "display_data"
    }
   ],
   "source": [
    "# here applying 'ourDataset_train' using LM\n",
    "data_lm_AA = TextLMDataBunch.from_csv(aa , 'OurDataset_train.csv', vocab=vocab, bs=bs, tokenizer=tokenizer) # read the csv data using vocabulary and batch size also with tokenizer,\n",
    "data_lm_AA.save('train_AA_char_lm.pkl') # this data save into this .pkl file"
   ]
  },
  {
   "cell_type": "code",
   "execution_count": 11,
   "metadata": {
    "executionInfo": {
     "elapsed": 3671,
     "status": "ok",
     "timestamp": 1602273471791,
     "user": {
      "displayName": "ibrahim al azhar",
      "photoUrl": "https://lh3.googleusercontent.com/a-/AOh14GhcTQUbimVsO7p7wRuyYZSNKei7erJoiKLzcwQ3eoY=s64",
      "userId": "00085534427974934913"
     },
     "user_tz": -360
    },
    "id": "fQGXQpZAoIVF"
   },
   "outputs": [],
   "source": [
    "data_lm_AA = load_data(aa, 'train_AA_char_lm.pkl',bs=bs) # load the data from .pkl file with batch size =32"
   ]
  },
  {
   "cell_type": "code",
   "execution_count": 12,
   "metadata": {
    "colab": {
     "base_uri": "https://localhost:8080/",
     "height": 289
    },
    "executionInfo": {
     "elapsed": 11109,
     "status": "ok",
     "timestamp": 1602273485438,
     "user": {
      "displayName": "ibrahim al azhar",
      "photoUrl": "https://lh3.googleusercontent.com/a-/AOh14GhcTQUbimVsO7p7wRuyYZSNKei7erJoiKLzcwQ3eoY=s64",
      "userId": "00085534427974934913"
     },
     "user_tz": -360
    },
    "id": "dFJ5lMrR4rok",
    "outputId": "e7f68d1b-9787-46e8-e5be-547caf27151e"
   },
   "outputs": [
    {
     "name": "stderr",
     "output_type": "stream",
     "text": [
      "/usr/local/lib/python3.6/dist-packages/fastai/text/data.py:337: UserWarning: This overload of nonzero is deprecated:\n",
      "\tnonzero()\n",
      "Consider using one of the following signatures instead:\n",
      "\tnonzero(*, bool as_tuple) (Triggered internally at  /pytorch/torch/csrc/utils/python_arg_parser.cpp:766.)\n",
      "  idx_min = (t != self.pad_idx).nonzero().min()\n"
     ]
    },
    {
     "data": {
      "text/html": [
       "<table border=\"1\" class=\"dataframe\">\n",
       "  <thead>\n",
       "    <tr style=\"text-align: right;\">\n",
       "      <th>idx</th>\n",
       "      <th>text</th>\n",
       "    </tr>\n",
       "  </thead>\n",
       "  <tbody>\n",
       "    <tr>\n",
       "      <td>0</td>\n",
       "      <td>ব ল ল ে ,   “ স ে জ ো ব উ   ক ি ন ্ ত ু   ব া xxunk চ ব ে   ন া   ছ ো ট ো - ম ি য় ে xxunk ! ”   ব ল ে ই   দ ী র ্ ঘ শ ্ ব া স</td>\n",
       "    </tr>\n",
       "    <tr>\n",
       "      <td>1</td>\n",
       "      <td>ে   ল া গ ল ে ন xxunk   শ ে ষ প র ্ য ন ্ ত   আ র া ক া ন ে র   ম গ   স ৈ ন ্ য র া   য খ ন   এ স ে   প ড় ল   র া জ ধ া ন ী</td>\n",
       "    </tr>\n",
       "    <tr>\n",
       "      <td>2</td>\n",
       "      <td>xxunk   ব ি শ ্ ব া স   অ র ্ জ ন ে র   জ ন ্ য ে   স ব স ম য় ে ই   প ী র দ ে র   স ম ্ প র ্ ক ে   অ ল ৌ ক ি ক   ক া হ ি ন ী</td>\n",
       "    </tr>\n",
       "    <tr>\n",
       "      <td>3</td>\n",
       "      <td>ল া য়   ক থ া   ব ল ছ ে xxunk   ট ি ভ ি   ক ে   ছ ে ড ় ে ছ ে ?   ব ি ড় া ল ট া   ন ি শ ্ চ য় ই   ন া xxunk   জ া ম া ল ে র   ক</td>\n",
       "    </tr>\n",
       "    <tr>\n",
       "      <td>4</td>\n",
       "      <td>া র   ত া ক ে   এ ক ট ু   দ ে খ ো xxunk   এ খ া ন ে   থ া ক ত ে   য দ ি   ন া   চ া য়   আ ম া র   ন া ম   ক র ে   ত া ক</td>\n",
       "    </tr>\n",
       "  </tbody>\n",
       "</table>"
      ],
      "text/plain": [
       "<IPython.core.display.HTML object>"
      ]
     },
     "metadata": {
      "tags": []
     },
     "output_type": "display_data"
    }
   ],
   "source": [
    "data_lm_AA.show_batch()"
   ]
  },
  {
   "cell_type": "code",
   "execution_count": 13,
   "metadata": {
    "executionInfo": {
     "elapsed": 1030,
     "status": "ok",
     "timestamp": 1602273493864,
     "user": {
      "displayName": "ibrahim al azhar",
      "photoUrl": "https://lh3.googleusercontent.com/a-/AOh14GhcTQUbimVsO7p7wRuyYZSNKei7erJoiKLzcwQ3eoY=s64",
      "userId": "00085534427974934913"
     },
     "user_tz": -360
    },
    "id": "MbLMRQq74rsk"
   },
   "outputs": [],
   "source": [
    "# apply fast ai in pytorch,pretrained will use fastai's pretrained model for this arch or you can pretrained_fnames containing your own pretrained model and the corresponding vocabulary\n",
    "learn = language_model_learner(data_lm_AA, AWD_LSTM, pretrained=False, drop_mult=0.5) # apply language_model_learner(define a learner using pretrained model) in 'data_lm_AA' dataset with AWD_LSTM(model toolkit for pytorch) where pretrained is false and drop rate is 0.5"
   ]
  },
  {
   "cell_type": "code",
   "execution_count": 14,
   "metadata": {
    "colab": {
     "base_uri": "https://localhost:8080/",
     "height": 374
    },
    "executionInfo": {
     "elapsed": 14237,
     "status": "ok",
     "timestamp": 1602273510599,
     "user": {
      "displayName": "ibrahim al azhar",
      "photoUrl": "https://lh3.googleusercontent.com/a-/AOh14GhcTQUbimVsO7p7wRuyYZSNKei7erJoiKLzcwQ3eoY=s64",
      "userId": "00085534427974934913"
     },
     "user_tz": -360
    },
    "id": "XtMiPsjD4rma",
    "outputId": "44e7ee6d-e188-4919-96fc-d602d4cb00dc"
   },
   "outputs": [
    {
     "data": {
      "text/html": [
       "\n",
       "    <div>\n",
       "        <style>\n",
       "            /* Turns off some styling */\n",
       "            progress {\n",
       "                /* gets rid of default border in Firefox and Opera. */\n",
       "                border: none;\n",
       "                /* Needs to be in here for Safari polyfill so background images work as expected. */\n",
       "                background-size: auto;\n",
       "            }\n",
       "            .progress-bar-interrupted, .progress-bar-interrupted::-webkit-progress-bar {\n",
       "                background: #F44336;\n",
       "            }\n",
       "        </style>\n",
       "      <progress value='0' class='' max='1' style='width:300px; height:20px; vertical-align: middle;'></progress>\n",
       "      0.00% [0/1 00:00<00:00]\n",
       "    </div>\n",
       "    \n",
       "<table border=\"1\" class=\"dataframe\">\n",
       "  <thead>\n",
       "    <tr style=\"text-align: left;\">\n",
       "      <th>epoch</th>\n",
       "      <th>train_loss</th>\n",
       "      <th>valid_loss</th>\n",
       "      <th>accuracy</th>\n",
       "      <th>time</th>\n",
       "    </tr>\n",
       "  </thead>\n",
       "  <tbody>\n",
       "  </tbody>\n",
       "</table><p>\n",
       "\n",
       "    <div>\n",
       "        <style>\n",
       "            /* Turns off some styling */\n",
       "            progress {\n",
       "                /* gets rid of default border in Firefox and Opera. */\n",
       "                border: none;\n",
       "                /* Needs to be in here for Safari polyfill so background images work as expected. */\n",
       "                background-size: auto;\n",
       "            }\n",
       "            .progress-bar-interrupted, .progress-bar-interrupted::-webkit-progress-bar {\n",
       "                background: #F44336;\n",
       "            }\n",
       "        </style>\n",
       "      <progress value='98' class='' max='22530' style='width:300px; height:20px; vertical-align: middle;'></progress>\n",
       "      0.43% [98/22530 00:09<36:34 11.0694]\n",
       "    </div>\n",
       "    "
      ],
      "text/plain": [
       "<IPython.core.display.HTML object>"
      ]
     },
     "metadata": {
      "tags": []
     },
     "output_type": "display_data"
    },
    {
     "name": "stdout",
     "output_type": "stream",
     "text": [
      "LR Finder is complete, type {learner_name}.recorder.plot() to see the graph.\n"
     ]
    },
    {
     "data": {
      "image/png": "[encoded data removed]",
      "text/plain": [
       "<Figure size 432x288 with 1 Axes>"
      ]
     },
     "metadata": {
      "needs_background": "light",
      "tags": []
     },
     "output_type": "display_data"
    }
   ],
   "source": [
    "learn.lr_find(); # keras learning rate finder method\n",
    "learn.recorder.plot(); # plot the learning rate where we can see that firstly loss decreases after the loss increased suddenly\n",
    "plt.savefig('clr_char.eps')  # the figure save in 'clr_char.eps' file"
   ]
  },
  {
   "cell_type": "code",
   "execution_count": 15,
   "metadata": {
    "colab": {
     "base_uri": "https://localhost:8080/",
     "height": 111
    },
    "executionInfo": {
     "elapsed": 4571700,
     "status": "ok",
     "timestamp": 1602278127868,
     "user": {
      "displayName": "ibrahim al azhar",
      "photoUrl": "https://lh3.googleusercontent.com/a-/AOh14GhcTQUbimVsO7p7wRuyYZSNKei7erJoiKLzcwQ3eoY=s64",
      "userId": "00085534427974934913"
     },
     "user_tz": -360
    },
    "id": "K2d9mofY4rkl",
    "outputId": "603570f8-ac28-49fb-8022-99a6aacb0364"
   },
   "outputs": [
    {
     "data": {
      "text/html": [
       "<table border=\"1\" class=\"dataframe\">\n",
       "  <thead>\n",
       "    <tr style=\"text-align: left;\">\n",
       "      <th>epoch</th>\n",
       "      <th>train_loss</th>\n",
       "      <th>valid_loss</th>\n",
       "      <th>accuracy</th>\n",
       "      <th>time</th>\n",
       "    </tr>\n",
       "  </thead>\n",
       "  <tbody>\n",
       "    <tr>\n",
       "      <td>0</td>\n",
       "      <td>3.438446</td>\n",
       "      <td>3.362775</td>\n",
       "      <td>0.168003</td>\n",
       "      <td>37:57</td>\n",
       "    </tr>\n",
       "    <tr>\n",
       "      <td>1</td>\n",
       "      <td>3.375198</td>\n",
       "      <td>3.346339</td>\n",
       "      <td>0.170933</td>\n",
       "      <td>38:13</td>\n",
       "    </tr>\n",
       "  </tbody>\n",
       "</table>"
      ],
      "text/plain": [
       "<IPython.core.display.HTML object>"
      ]
     },
     "metadata": {
      "tags": []
     },
     "output_type": "display_data"
    }
   ],
   "source": [
    "learn.freeze() # freeze() is passed an immutable object,as determined by hash() on that object not raising TypeError,then the object is returned directly\n",
    "learn.fit_one_cycle(2, 1e-2) # 'fit_one_cycle' use for directly strar training,by the parameter shows just 2 epochs of train loss,valid loss, accuracy and time'\n",
    "learn.save('AA_char_lm_head'); # this 2 epcoh's train_loss,valid_loss,accuracy and time save onto 'AA_char_lm_head' file"
   ]
  },
  {
   "cell_type": "code",
   "execution_count": 17,
   "metadata": {
    "colab": {
     "base_uri": "https://localhost:8080/",
     "height": 279
    },
    "executionInfo": {
     "elapsed": 1771,
     "status": "ok",
     "timestamp": 1602284300880,
     "user": {
      "displayName": "ibrahim al azhar",
      "photoUrl": "https://lh3.googleusercontent.com/a-/AOh14GhcTQUbimVsO7p7wRuyYZSNKei7erJoiKLzcwQ3eoY=s64",
      "userId": "00085534427974934913"
     },
     "user_tz": -360
    },
    "id": "9cdrGUyq4rix",
    "outputId": "2c9c7cbd-7c1c-46a2-e168-737c3b032939"
   },
   "outputs": [
    {
     "data": {
      "image/png": "[encoded data removed]",
      "text/plain": [
       "<Figure size 432x288 with 1 Axes>"
      ]
     },
     "metadata": {
      "needs_background": "light",
      "tags": []
     },
     "output_type": "display_data"
    }
   ],
   "source": [
    "learn.recorder.plot(skip_end=10); # here plotting without last portion\n",
    "plt.savefig('clr_char_skipend.eps') # the file save onto this file"
   ]
  },
  {
   "cell_type": "code",
   "execution_count": 18,
   "metadata": {
    "colab": {
     "base_uri": "https://localhost:8080/",
     "height": 374
    },
    "executionInfo": {
     "elapsed": 11176,
     "status": "ok",
     "timestamp": 1602284391081,
     "user": {
      "displayName": "ibrahim al azhar",
      "photoUrl": "https://lh3.googleusercontent.com/a-/AOh14GhcTQUbimVsO7p7wRuyYZSNKei7erJoiKLzcwQ3eoY=s64",
      "userId": "00085534427974934913"
     },
     "user_tz": -360
    },
    "id": "I-njc1XDliKM",
    "outputId": "1c36144f-0586-4892-c48d-eb4a032378b4"
   },
   "outputs": [
    {
     "data": {
      "text/html": [
       "\n",
       "    <div>\n",
       "        <style>\n",
       "            /* Turns off some styling */\n",
       "            progress {\n",
       "                /* gets rid of default border in Firefox and Opera. */\n",
       "                border: none;\n",
       "                /* Needs to be in here for Safari polyfill so background images work as expected. */\n",
       "                background-size: auto;\n",
       "            }\n",
       "            .progress-bar-interrupted, .progress-bar-interrupted::-webkit-progress-bar {\n",
       "                background: #F44336;\n",
       "            }\n",
       "        </style>\n",
       "      <progress value='0' class='' max='1' style='width:300px; height:20px; vertical-align: middle;'></progress>\n",
       "      0.00% [0/1 00:00<00:00]\n",
       "    </div>\n",
       "    \n",
       "<table border=\"1\" class=\"dataframe\">\n",
       "  <thead>\n",
       "    <tr style=\"text-align: left;\">\n",
       "      <th>epoch</th>\n",
       "      <th>train_loss</th>\n",
       "      <th>valid_loss</th>\n",
       "      <th>accuracy</th>\n",
       "      <th>time</th>\n",
       "    </tr>\n",
       "  </thead>\n",
       "  <tbody>\n",
       "  </tbody>\n",
       "</table><p>\n",
       "\n",
       "    <div>\n",
       "        <style>\n",
       "            /* Turns off some styling */\n",
       "            progress {\n",
       "                /* gets rid of default border in Firefox and Opera. */\n",
       "                border: none;\n",
       "                /* Needs to be in here for Safari polyfill so background images work as expected. */\n",
       "                background-size: auto;\n",
       "            }\n",
       "            .progress-bar-interrupted, .progress-bar-interrupted::-webkit-progress-bar {\n",
       "                background: #F44336;\n",
       "            }\n",
       "        </style>\n",
       "      <progress value='98' class='' max='22530' style='width:300px; height:20px; vertical-align: middle;'></progress>\n",
       "      0.43% [98/22530 00:09<34:21 3.4113]\n",
       "    </div>\n",
       "    "
      ],
      "text/plain": [
       "<IPython.core.display.HTML object>"
      ]
     },
     "metadata": {
      "tags": []
     },
     "output_type": "display_data"
    },
    {
     "name": "stdout",
     "output_type": "stream",
     "text": [
      "LR Finder is complete, type {learner_name}.recorder.plot() to see the graph.\n"
     ]
    },
    {
     "data": {
      "image/png": "[encoded data removed]",
      "text/plain": [
       "<Figure size 432x288 with 1 Axes>"
      ]
     },
     "metadata": {
      "needs_background": "light",
      "tags": []
     },
     "output_type": "display_data"
    }
   ],
   "source": [
    "learn.lr_find(); # call the keras learning rate finder method\n",
    "learn.recorder.plot(); # now plot this dataset \n",
    "plt.savefig('clr_char_lmAA.eps') # this figure save onto a file"
   ]
  },
  {
   "cell_type": "code",
   "execution_count": 19,
   "metadata": {
    "colab": {
     "base_uri": "https://localhost:8080/",
     "height": 279
    },
    "executionInfo": {
     "elapsed": 1101,
     "status": "ok",
     "timestamp": 1602284505841,
     "user": {
      "displayName": "ibrahim al azhar",
      "photoUrl": "https://lh3.googleusercontent.com/a-/AOh14GhcTQUbimVsO7p7wRuyYZSNKei7erJoiKLzcwQ3eoY=s64",
      "userId": "00085534427974934913"
     },
     "user_tz": -360
    },
    "id": "EUHuYBvFl14-",
    "outputId": "bbadc78e-c4ff-48ff-f688-8656b783e498"
   },
   "outputs": [
    {
     "data": {
      "image/png": "[encoded data removed]",
      "text/plain": [
       "<Figure size 432x288 with 1 Axes>"
      ]
     },
     "metadata": {
      "needs_background": "light",
      "tags": []
     },
     "output_type": "display_data"
    }
   ],
   "source": [
    "learn.recorder.plot(skip_end=10); # skip the last term of previous figure and plot it\n",
    "plt.savefig('clr_char_lmAA_skipend.eps') # now save it onto a .eps file"
   ]
  },
  {
   "cell_type": "code",
   "execution_count": 23,
   "metadata": {
    "colab": {
     "base_uri": "https://localhost:8080/",
     "height": 80
    },
    "executionInfo": {
     "elapsed": 2374260,
     "status": "ok",
     "timestamp": 1602287323834,
     "user": {
      "displayName": "ibrahim al azhar",
      "photoUrl": "https://lh3.googleusercontent.com/a-/AOh14GhcTQUbimVsO7p7wRuyYZSNKei7erJoiKLzcwQ3eoY=s64",
      "userId": "00085534427974934913"
     },
     "user_tz": -360
    },
    "id": "bK5XmkxdmUX9",
    "outputId": "8b79a376-da3b-42ac-9b51-feab37b50b22"
   },
   "outputs": [
    {
     "data": {
      "text/html": [
       "<table border=\"1\" class=\"dataframe\">\n",
       "  <thead>\n",
       "    <tr style=\"text-align: left;\">\n",
       "      <th>epoch</th>\n",
       "      <th>train_loss</th>\n",
       "      <th>valid_loss</th>\n",
       "      <th>accuracy</th>\n",
       "      <th>time</th>\n",
       "    </tr>\n",
       "  </thead>\n",
       "  <tbody>\n",
       "    <tr>\n",
       "      <td>0</td>\n",
       "      <td>3.337064</td>\n",
       "      <td>3.335950</td>\n",
       "      <td>0.170990</td>\n",
       "      <td>39:26</td>\n",
       "    </tr>\n",
       "  </tbody>\n",
       "</table>"
      ],
      "text/plain": [
       "<IPython.core.display.HTML object>"
      ]
     },
     "metadata": {
      "tags": []
     },
     "output_type": "display_data"
    }
   ],
   "source": [
    "learn.load('AA_char_lm_head'); # load the previous save data\n",
    "# unfreeze means model weights are not frozen so we can train this model,we need to unfreeze the learner before we can retrain it\n",
    "learn.unfreeze() # default is freeze,so you have to set the last layer should be unfrozen only in pretrained model,all of the layers are trainable,all weights from frozen layers of the model now can get updated from their pre-trained state according to loss function\n",
    "learn.fit_one_cycle(1, 1e-2) # training model on first epoch,2nd parameter maintains low learning rate for initial layers\n",
    "learn.save_encoder('AA_char_lm_enc') # save the file in model directory(the model directory is: Learner.path/Learner.model_dir)"
   ]
  },
  {
   "cell_type": "code",
   "execution_count": null,
   "metadata": {
    "id": "p2gsn2Tnndig"
   },
   "outputs": [],
   "source": []
  },
  {
   "cell_type": "code",
   "execution_count": 24,
   "metadata": {
    "colab": {
     "base_uri": "https://localhost:8080/",
     "height": 17
    },
    "executionInfo": {
     "elapsed": 74238,
     "status": "ok",
     "timestamp": 1602287722988,
     "user": {
      "displayName": "ibrahim al azhar",
      "photoUrl": "https://lh3.googleusercontent.com/a-/AOh14GhcTQUbimVsO7p7wRuyYZSNKei7erJoiKLzcwQ3eoY=s64",
      "userId": "00085534427974934913"
     },
     "user_tz": -360
    },
    "id": "EAG2ch3Smfot",
    "outputId": "f616f572-c17a-44c4-a8ca-6ae960246219"
   },
   "outputs": [
    {
     "data": {
      "text/html": [],
      "text/plain": [
       "<IPython.core.display.HTML object>"
      ]
     },
     "metadata": {
      "tags": []
     },
     "output_type": "display_data"
    },
    {
     "data": {
      "text/html": [],
      "text/plain": [
       "<IPython.core.display.HTML object>"
      ]
     },
     "metadata": {
      "tags": []
     },
     "output_type": "display_data"
    }
   ],
   "source": [
    "# here applying 'ourDataset_train' without using LM\n",
    "data_clas = TextClasDataBunch.from_csv(aa , 'OurDataset_train.csv',  vocab=vocab, bs=bs, tokenizer=tokenizer) # read the csv file using TextClassDataBunch with vocabulary,batch size and tokenizer\n",
    "data_clas.save('AA_char_clas.pkl') # save file on this "
   ]
  },
  {
   "cell_type": "code",
   "execution_count": 25,
   "metadata": {
    "executionInfo": {
     "elapsed": 16876,
     "status": "ok",
     "timestamp": 1602287852245,
     "user": {
      "displayName": "ibrahim al azhar",
      "photoUrl": "https://lh3.googleusercontent.com/a-/AOh14GhcTQUbimVsO7p7wRuyYZSNKei7erJoiKLzcwQ3eoY=s64",
      "userId": "00085534427974934913"
     },
     "user_tz": -360
    },
    "id": "7623lEE7myU9"
   },
   "outputs": [],
   "source": [
    "data_clas = load_data(aa, 'AA_char_clas.pkl',bs=bs) # load the data using batch size = 32\n",
    "# create a learner with a text classifier from dls and arch,you can use the config to customize the architecture used pretrained will use fastai's pretrained model for this arch(awd_lstm_class_config)\n",
    "learn_cls = text_classifier_learner(data_clas, AWD_LSTM, drop_mult=0.5, pretrained=False) # drop_mult is a global multiplier applied to control all dropouts\n",
    "learn_cls.load_encoder('AA_char_lm_enc') # the model uses a senetenceEncoder,which means the texts are passed seq_len tokens at a time,and will compute the gradients on the last max_len steps"
   ]
  },
  {
   "cell_type": "code",
   "execution_count": 26,
   "metadata": {
    "colab": {
     "base_uri": "https://localhost:8080/",
     "height": 204
    },
    "executionInfo": {
     "elapsed": 20787,
     "status": "ok",
     "timestamp": 1602288031739,
     "user": {
      "displayName": "ibrahim al azhar",
      "photoUrl": "https://lh3.googleusercontent.com/a-/AOh14GhcTQUbimVsO7p7wRuyYZSNKei7erJoiKLzcwQ3eoY=s64",
      "userId": "00085534427974934913"
     },
     "user_tz": -360
    },
    "id": "_YjZ7uqCnR30",
    "outputId": "da11fc07-9a92-4188-8925-25aa1d64ea4d"
   },
   "outputs": [
    {
     "data": {
      "text/html": [
       "<table border=\"1\" class=\"dataframe\">\n",
       "  <thead>\n",
       "    <tr style=\"text-align: right;\">\n",
       "      <th>text</th>\n",
       "      <th>target</th>\n",
       "    </tr>\n",
       "  </thead>\n",
       "  <tbody>\n",
       "    <tr>\n",
       "      <td>xxbos x x b o s   এ ক   ন া প ি ত া ন ী   আ স ি ল xxunk   ন া প ি ত া ন ী   স ধ ব া ,   খ া ট ো   র া ঙ ্ গ া প ে ড় ে   স া ড় ী প র</td>\n",
       "      <td>bongkim</td>\n",
       "    </tr>\n",
       "    <tr>\n",
       "      <td>xxbos x x b o s   গ ৃ হ ম ধ ্ য স ্ থ   এ ক   ব ্ য ক ্ ত ি   ব া হ ি র ে   আ স ি ল ে ন ,   এ ব xxunk   আ স ি য় া ই   ক প া ল ক ু ণ</td>\n",
       "      <td>bongkim</td>\n",
       "    </tr>\n",
       "    <tr>\n",
       "      <td>xxbos x x b o s   ক র ি ল ে ন xxunk   ক থ ি ত   ব া ল ু ক া স ্ ত ূ প শ ্ র ে ণ ী   প ্ র স ্ থ ে   অ ত ি   অ ল ্ প ,   অ ত এ ব   ন</td>\n",
       "      <td>bongkim</td>\n",
       "    </tr>\n",
       "    <tr>\n",
       "      <td>xxbos x x b o s   প া র ি ল া ম   ন া xxunk   এ   স ক ল   এ ই   অ ঙ ্ গ ে র ই   উ প য ু ক ্ ত   xxunk   এ ই   জ ন ্ য   প র া ই ল</td>\n",
       "      <td>bongkim</td>\n",
       "    </tr>\n",
       "    <tr>\n",
       "      <td>xxbos x x b o s   ত া হ া ক ে   দ ু ই   ব া হ ু ত ে   জ ড় া ই য় া   ধ র ি ল xxunk   অ শ ্ ব া র ো হ ী র   ব য় স   অ ধ ি ক   ন য় ,</td>\n",
       "      <td>shordindu</td>\n",
       "    </tr>\n",
       "  </tbody>\n",
       "</table>"
      ],
      "text/plain": [
       "<IPython.core.display.HTML object>"
      ]
     },
     "metadata": {
      "tags": []
     },
     "output_type": "display_data"
    }
   ],
   "source": [
    "data_clas.show_batch()"
   ]
  },
  {
   "cell_type": "code",
   "execution_count": 27,
   "metadata": {
    "colab": {
     "base_uri": "https://localhost:8080/",
     "height": 374
    },
    "executionInfo": {
     "elapsed": 253636,
     "status": "ok",
     "timestamp": 1602288289210,
     "user": {
      "displayName": "ibrahim al azhar",
      "photoUrl": "https://lh3.googleusercontent.com/a-/AOh14GhcTQUbimVsO7p7wRuyYZSNKei7erJoiKLzcwQ3eoY=s64",
      "userId": "00085534427974934913"
     },
     "user_tz": -360
    },
    "id": "qGF63AKuztBz",
    "outputId": "db1fe3ba-b038-4109-a3a1-a3939817f04b"
   },
   "outputs": [
    {
     "data": {
      "text/html": [
       "\n",
       "    <div>\n",
       "        <style>\n",
       "            /* Turns off some styling */\n",
       "            progress {\n",
       "                /* gets rid of default border in Firefox and Opera. */\n",
       "                border: none;\n",
       "                /* Needs to be in here for Safari polyfill so background images work as expected. */\n",
       "                background-size: auto;\n",
       "            }\n",
       "            .progress-bar-interrupted, .progress-bar-interrupted::-webkit-progress-bar {\n",
       "                background: #F44336;\n",
       "            }\n",
       "        </style>\n",
       "      <progress value='0' class='' max='1' style='width:300px; height:20px; vertical-align: middle;'></progress>\n",
       "      0.00% [0/1 00:00<00:00]\n",
       "    </div>\n",
       "    \n",
       "<table border=\"1\" class=\"dataframe\">\n",
       "  <thead>\n",
       "    <tr style=\"text-align: left;\">\n",
       "      <th>epoch</th>\n",
       "      <th>train_loss</th>\n",
       "      <th>valid_loss</th>\n",
       "      <th>accuracy</th>\n",
       "      <th>time</th>\n",
       "    </tr>\n",
       "  </thead>\n",
       "  <tbody>\n",
       "  </tbody>\n",
       "</table><p>\n",
       "\n",
       "    <div>\n",
       "        <style>\n",
       "            /* Turns off some styling */\n",
       "            progress {\n",
       "                /* gets rid of default border in Firefox and Opera. */\n",
       "                border: none;\n",
       "                /* Needs to be in here for Safari polyfill so background images work as expected. */\n",
       "                background-size: auto;\n",
       "            }\n",
       "            .progress-bar-interrupted, .progress-bar-interrupted::-webkit-progress-bar {\n",
       "                background: #F44336;\n",
       "            }\n",
       "        </style>\n",
       "      <progress value='94' class='' max='359' style='width:300px; height:20px; vertical-align: middle;'></progress>\n",
       "      26.18% [94/359 04:08<11:41 9.5406]\n",
       "    </div>\n",
       "    "
      ],
      "text/plain": [
       "<IPython.core.display.HTML object>"
      ]
     },
     "metadata": {
      "tags": []
     },
     "output_type": "display_data"
    },
    {
     "name": "stdout",
     "output_type": "stream",
     "text": [
      "LR Finder is complete, type {learner_name}.recorder.plot() to see the graph.\n"
     ]
    },
    {
     "data": {
      "image/png": "[encoded data removed]",
      "text/plain": [
       "<Figure size 432x288 with 1 Axes>"
      ]
     },
     "metadata": {
      "needs_background": "light",
      "tags": []
     },
     "output_type": "display_data"
    }
   ],
   "source": [
    "learn_cls.freeze() # freezing prevents the weights of a neural network layer from being modified during backward pass of training,you progressively 'lock-in' the weigts of each layer to reduce the amount of computation in the backward pass and decrease training time,you can unfreeze a model if you decide you want to continue training\n",
    "# an example of this is transfer learnig:start with a pre-trained model,unfreeze the weights,then continuing training on a different dataset.when you choose to freeze is a balance between freezing early enough to gain computational speed-up without freezing too early with weights that result in inaccurate predictions\n",
    "learn_cls.lr_find() # here call the learning rate finder method\n",
    "learn_cls.recorder.plot() # for plotting loss against learning rate"
   ]
  },
  {
   "cell_type": "code",
   "execution_count": 28,
   "metadata": {
    "colab": {
     "base_uri": "https://localhost:8080/",
     "height": 111
    },
    "executionInfo": {
     "elapsed": 2341391,
     "status": "ok",
     "timestamp": 1602292000835,
     "user": {
      "displayName": "ibrahim al azhar",
      "photoUrl": "https://lh3.googleusercontent.com/a-/AOh14GhcTQUbimVsO7p7wRuyYZSNKei7erJoiKLzcwQ3eoY=s64",
      "userId": "00085534427974934913"
     },
     "user_tz": -360
    },
    "id": "BCGxzsRLzyZr",
    "outputId": "cb67e052-b3bd-4c24-8096-6010f1668933"
   },
   "outputs": [
    {
     "data": {
      "text/html": [
       "<table border=\"1\" class=\"dataframe\">\n",
       "  <thead>\n",
       "    <tr style=\"text-align: left;\">\n",
       "      <th>epoch</th>\n",
       "      <th>train_loss</th>\n",
       "      <th>valid_loss</th>\n",
       "      <th>accuracy</th>\n",
       "      <th>time</th>\n",
       "    </tr>\n",
       "  </thead>\n",
       "  <tbody>\n",
       "    <tr>\n",
       "      <td>0</td>\n",
       "      <td>2.533279</td>\n",
       "      <td>2.609792</td>\n",
       "      <td>0.257043</td>\n",
       "      <td>19:37</td>\n",
       "    </tr>\n",
       "    <tr>\n",
       "      <td>1</td>\n",
       "      <td>2.469122</td>\n",
       "      <td>2.521401</td>\n",
       "      <td>0.257391</td>\n",
       "      <td>19:21</td>\n",
       "    </tr>\n",
       "  </tbody>\n",
       "</table>"
      ],
      "text/plain": [
       "<IPython.core.display.HTML object>"
      ]
     },
     "metadata": {
      "tags": []
     },
     "output_type": "display_data"
    }
   ],
   "source": [
    "learn_cls.fit_one_cycle(2, 1e-2, moms=(0.8,0.7)) # train using 2 epochs,2n parameter maintains low learning rate for initial layers\n",
    "learn_cls.save('char_cls_1') # save it onto this file"
   ]
  },
  {
   "cell_type": "code",
   "execution_count": null,
   "metadata": {
    "id": "7H6wQw0v5-1G"
   },
   "outputs": [],
   "source": []
  }
 ],
 "metadata": {
  "accelerator": "GPU",
  "colab": {
   "authorship_tag": "ABX9TyNIYaXjNY3df3raoNe2nuP7",
   "name": "charachter news dataset1 AA.ipynb",
   "provenance": []
  },
  "kernelspec": {
   "display_name": "Python 3 (ipykernel)",
   "language": "python",
   "name": "python3"
  },
  "language_info": {
   "codemirror_mode": {
    "name": "ipython",
    "version": 3
   },
   "file_extension": ".py",
   "mimetype": "text/x-python",
   "name": "python",
   "nbconvert_exporter": "python",
   "pygments_lexer": "ipython3",
   "version": "3.10.9"
  }
 },
 "nbformat": 4,
 "nbformat_minor": 1
}
