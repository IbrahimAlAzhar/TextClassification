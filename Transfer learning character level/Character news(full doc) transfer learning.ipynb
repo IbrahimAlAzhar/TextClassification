{
 "cells": [
  {
   "cell_type": "code",
   "execution_count": 1,
   "metadata": {
    "colab": {
     "base_uri": "https://localhost:8080/",
     "height": 1000
    },
    "executionInfo": {
     "elapsed": 13769,
     "status": "ok",
     "timestamp": 1603038269655,
     "user": {
      "displayName": "ibrahim al azhar",
      "photoUrl": "https://lh3.googleusercontent.com/a-/AOh14GhcTQUbimVsO7p7wRuyYZSNKei7erJoiKLzcwQ3eoY=s64",
      "userId": "00085534427974934913"
     },
     "user_tz": -360
    },
    "id": "svnTZ8W6JcLo",
    "outputId": "55680b46-5158-4f98-d218-c680019e75fc"
   },
   "outputs": [
    {
     "name": "stdout",
     "output_type": "stream",
     "text": [
      "Collecting fastai==1.0.52\n",
      "\u001b[?25l  Downloading https://files.pythonhosted.org/packages/de/07/7203179ba2f211bfbda364f883f645aea4d09ccfd48ce5dbb00a894722bf/fastai-1.0.52-py3-none-any.whl (219kB)\n",
      "\r",
      "\u001b[K     |█▌                              | 10kB 22.3MB/s eta 0:00:01\r",
      "\u001b[K     |███                             | 20kB 3.4MB/s eta 0:00:01\r",
      "\u001b[K     |████▌                           | 30kB 4.6MB/s eta 0:00:01\r",
      "\u001b[K     |██████                          | 40kB 4.9MB/s eta 0:00:01\r",
      "\u001b[K     |███████▌                        | 51kB 4.0MB/s eta 0:00:01\r",
      "\u001b[K     |█████████                       | 61kB 4.5MB/s eta 0:00:01\r",
      "\u001b[K     |██████████▍                     | 71kB 4.9MB/s eta 0:00:01\r",
      "\u001b[K     |████████████                    | 81kB 5.3MB/s eta 0:00:01\r",
      "\u001b[K     |█████████████▍                  | 92kB 5.6MB/s eta 0:00:01\r",
      "\u001b[K     |███████████████                 | 102kB 5.4MB/s eta 0:00:01\r",
      "\u001b[K     |████████████████▍               | 112kB 5.4MB/s eta 0:00:01\r",
      "\u001b[K     |█████████████████▉              | 122kB 5.4MB/s eta 0:00:01\r",
      "\u001b[K     |███████████████████▍            | 133kB 5.4MB/s eta 0:00:01\r",
      "\u001b[K     |████████████████████▉           | 143kB 5.4MB/s eta 0:00:01\r",
      "\u001b[K     |██████████████████████▍         | 153kB 5.4MB/s eta 0:00:01\r",
      "\u001b[K     |███████████████████████▉        | 163kB 5.4MB/s eta 0:00:01\r",
      "\u001b[K     |█████████████████████████▎      | 174kB 5.4MB/s eta 0:00:01\r",
      "\u001b[K     |██████████████████████████▉     | 184kB 5.4MB/s eta 0:00:01\r",
      "\u001b[K     |████████████████████████████▎   | 194kB 5.4MB/s eta 0:00:01\r",
      "\u001b[K     |█████████████████████████████▉  | 204kB 5.4MB/s eta 0:00:01\r",
      "\u001b[K     |███████████████████████████████▎| 215kB 5.4MB/s eta 0:00:01\r",
      "\u001b[K     |████████████████████████████████| 225kB 5.4MB/s \n",
      "\u001b[?25hRequirement already satisfied: Pillow in /usr/local/lib/python3.6/dist-packages (from fastai==1.0.52) (7.0.0)\n",
      "Requirement already satisfied: spacy>=2.0.18 in /usr/local/lib/python3.6/dist-packages (from fastai==1.0.52) (2.2.4)\n",
      "Requirement already satisfied: pyyaml in /usr/local/lib/python3.6/dist-packages (from fastai==1.0.52) (3.13)\n",
      "Requirement already satisfied: nvidia-ml-py3 in /usr/local/lib/python3.6/dist-packages (from fastai==1.0.52) (7.352.0)\n",
      "Requirement already satisfied: pandas in /usr/local/lib/python3.6/dist-packages (from fastai==1.0.52) (1.1.2)\n",
      "Requirement already satisfied: bottleneck in /usr/local/lib/python3.6/dist-packages (from fastai==1.0.52) (1.3.2)\n",
      "Requirement already satisfied: matplotlib in /usr/local/lib/python3.6/dist-packages (from fastai==1.0.52) (3.2.2)\n",
      "Requirement already satisfied: torchvision in /usr/local/lib/python3.6/dist-packages (from fastai==1.0.52) (0.7.0+cu101)\n",
      "Requirement already satisfied: packaging in /usr/local/lib/python3.6/dist-packages (from fastai==1.0.52) (20.4)\n",
      "Requirement already satisfied: numexpr in /usr/local/lib/python3.6/dist-packages (from fastai==1.0.52) (2.7.1)\n",
      "Requirement already satisfied: requests in /usr/local/lib/python3.6/dist-packages (from fastai==1.0.52) (2.23.0)\n",
      "Requirement already satisfied: beautifulsoup4 in /usr/local/lib/python3.6/dist-packages (from fastai==1.0.52) (4.6.3)\n",
      "Collecting typing\n",
      "\u001b[?25l  Downloading https://files.pythonhosted.org/packages/05/d9/6eebe19d46bd05360c9a9aae822e67a80f9242aabbfc58b641b957546607/typing-3.7.4.3.tar.gz (78kB)\n",
      "\u001b[K     |████████████████████████████████| 81kB 9.1MB/s \n",
      "\u001b[?25hRequirement already satisfied: numpy>=1.15 in /usr/local/lib/python3.6/dist-packages (from fastai==1.0.52) (1.18.5)\n",
      "Requirement already satisfied: fastprogress>=0.1.19 in /usr/local/lib/python3.6/dist-packages (from fastai==1.0.52) (1.0.0)\n",
      "Requirement already satisfied: scipy in /usr/local/lib/python3.6/dist-packages (from fastai==1.0.52) (1.4.1)\n",
      "Requirement already satisfied: torch>=1.0.0 in /usr/local/lib/python3.6/dist-packages (from fastai==1.0.52) (1.6.0+cu101)\n",
      "Requirement already satisfied: dataclasses; python_version < \"3.7\" in /usr/local/lib/python3.6/dist-packages (from fastai==1.0.52) (0.7)\n",
      "Requirement already satisfied: plac<1.2.0,>=0.9.6 in /usr/local/lib/python3.6/dist-packages (from spacy>=2.0.18->fastai==1.0.52) (1.1.3)\n",
      "Requirement already satisfied: tqdm<5.0.0,>=4.38.0 in /usr/local/lib/python3.6/dist-packages (from spacy>=2.0.18->fastai==1.0.52) (4.41.1)\n",
      "Requirement already satisfied: murmurhash<1.1.0,>=0.28.0 in /usr/local/lib/python3.6/dist-packages (from spacy>=2.0.18->fastai==1.0.52) (1.0.2)\n",
      "Requirement already satisfied: cymem<2.1.0,>=2.0.2 in /usr/local/lib/python3.6/dist-packages (from spacy>=2.0.18->fastai==1.0.52) (2.0.3)\n",
      "Requirement already satisfied: thinc==7.4.0 in /usr/local/lib/python3.6/dist-packages (from spacy>=2.0.18->fastai==1.0.52) (7.4.0)\n",
      "Requirement already satisfied: catalogue<1.1.0,>=0.0.7 in /usr/local/lib/python3.6/dist-packages (from spacy>=2.0.18->fastai==1.0.52) (1.0.0)\n",
      "Requirement already satisfied: setuptools in /usr/local/lib/python3.6/dist-packages (from spacy>=2.0.18->fastai==1.0.52) (50.3.0)\n",
      "Requirement already satisfied: blis<0.5.0,>=0.4.0 in /usr/local/lib/python3.6/dist-packages (from spacy>=2.0.18->fastai==1.0.52) (0.4.1)\n",
      "Requirement already satisfied: srsly<1.1.0,>=1.0.2 in /usr/local/lib/python3.6/dist-packages (from spacy>=2.0.18->fastai==1.0.52) (1.0.2)\n",
      "Requirement already satisfied: preshed<3.1.0,>=3.0.2 in /usr/local/lib/python3.6/dist-packages (from spacy>=2.0.18->fastai==1.0.52) (3.0.2)\n",
      "Requirement already satisfied: wasabi<1.1.0,>=0.4.0 in /usr/local/lib/python3.6/dist-packages (from spacy>=2.0.18->fastai==1.0.52) (0.8.0)\n",
      "Requirement already satisfied: pytz>=2017.2 in /usr/local/lib/python3.6/dist-packages (from pandas->fastai==1.0.52) (2018.9)\n",
      "Requirement already satisfied: python-dateutil>=2.7.3 in /usr/local/lib/python3.6/dist-packages (from pandas->fastai==1.0.52) (2.8.1)\n",
      "Requirement already satisfied: kiwisolver>=1.0.1 in /usr/local/lib/python3.6/dist-packages (from matplotlib->fastai==1.0.52) (1.2.0)\n",
      "Requirement already satisfied: cycler>=0.10 in /usr/local/lib/python3.6/dist-packages (from matplotlib->fastai==1.0.52) (0.10.0)\n",
      "Requirement already satisfied: pyparsing!=2.0.4,!=2.1.2,!=2.1.6,>=2.0.1 in /usr/local/lib/python3.6/dist-packages (from matplotlib->fastai==1.0.52) (2.4.7)\n",
      "Requirement already satisfied: six in /usr/local/lib/python3.6/dist-packages (from packaging->fastai==1.0.52) (1.15.0)\n",
      "Requirement already satisfied: urllib3!=1.25.0,!=1.25.1,<1.26,>=1.21.1 in /usr/local/lib/python3.6/dist-packages (from requests->fastai==1.0.52) (1.24.3)\n",
      "Requirement already satisfied: certifi>=2017.4.17 in /usr/local/lib/python3.6/dist-packages (from requests->fastai==1.0.52) (2020.6.20)\n",
      "Requirement already satisfied: idna<3,>=2.5 in /usr/local/lib/python3.6/dist-packages (from requests->fastai==1.0.52) (2.10)\n",
      "Requirement already satisfied: chardet<4,>=3.0.2 in /usr/local/lib/python3.6/dist-packages (from requests->fastai==1.0.52) (3.0.4)\n",
      "Requirement already satisfied: future in /usr/local/lib/python3.6/dist-packages (from torch>=1.0.0->fastai==1.0.52) (0.16.0)\n",
      "Requirement already satisfied: importlib-metadata>=0.20; python_version < \"3.8\" in /usr/local/lib/python3.6/dist-packages (from catalogue<1.1.0,>=0.0.7->spacy>=2.0.18->fastai==1.0.52) (2.0.0)\n",
      "Requirement already satisfied: zipp>=0.5 in /usr/local/lib/python3.6/dist-packages (from importlib-metadata>=0.20; python_version < \"3.8\"->catalogue<1.1.0,>=0.0.7->spacy>=2.0.18->fastai==1.0.52) (3.2.0)\n",
      "Building wheels for collected packages: typing\n",
      "  Building wheel for typing (setup.py) ... \u001b[?25l\u001b[?25hdone\n",
      "  Created wheel for typing: filename=typing-3.7.4.3-cp36-none-any.whl size=26307 sha256=c1a402f76640b6b8fe97b17f44817b9d1d210346aa992205e021ac6ac74f3c0e\n",
      "  Stored in directory: /root/.cache/pip/wheels/2d/04/41/8e1836e79581989c22eebac3f4e70aaac9af07b0908da173be\n",
      "Successfully built typing\n",
      "Installing collected packages: typing, fastai\n",
      "  Found existing installation: fastai 1.0.61\n",
      "    Uninstalling fastai-1.0.61:\n",
      "      Successfully uninstalled fastai-1.0.61\n",
      "Successfully installed fastai-1.0.52 typing-3.7.4.3\n"
     ]
    },
    {
     "data": {
      "application/vnd.colab-display-data+json": {
       "pip_warning": {
        "packages": [
         "typing"
        ]
       }
      }
     },
     "metadata": {
      "tags": []
     },
     "output_type": "display_data"
    }
   ],
   "source": [
    "!pip install fastai==1.0.52\n",
    "from fastai.text import *"
   ]
  },
  {
   "cell_type": "code",
   "execution_count": 2,
   "metadata": {
    "colab": {
     "base_uri": "https://localhost:8080/",
     "height": 34
    },
    "executionInfo": {
     "elapsed": 47410,
     "status": "ok",
     "timestamp": 1603038314026,
     "user": {
      "displayName": "ibrahim al azhar",
      "photoUrl": "https://lh3.googleusercontent.com/a-/AOh14GhcTQUbimVsO7p7wRuyYZSNKei7erJoiKLzcwQ3eoY=s64",
      "userId": "00085534427974934913"
     },
     "user_tz": -360
    },
    "id": "o3WxBr2hY5En",
    "outputId": "47df5201-74a2-47c4-c6a8-8776003c89b7"
   },
   "outputs": [
    {
     "name": "stdout",
     "output_type": "stream",
     "text": [
      "Mounted at /content/gdrive\n"
     ]
    }
   ],
   "source": [
    "from google.colab import drive\n",
    "drive.mount('/content/gdrive')"
   ]
  },
  {
   "cell_type": "code",
   "execution_count": 3,
   "metadata": {
    "executionInfo": {
     "elapsed": 2557,
     "status": "ok",
     "timestamp": 1603038320775,
     "user": {
      "displayName": "ibrahim al azhar",
      "photoUrl": "https://lh3.googleusercontent.com/a-/AOh14GhcTQUbimVsO7p7wRuyYZSNKei7erJoiKLzcwQ3eoY=s64",
      "userId": "00085534427974934913"
     },
     "user_tz": -360
    },
    "id": "WoirfKJkY9Eq"
   },
   "outputs": [],
   "source": [
    "import os\n",
    "path = Path(os.getcwd())\n",
    "path = path/'gdrive'/'My Drive'\n",
    "news=path/'Thesis Data'/'full doc csv'\n",
    "# aa=path/'Thesis Data'/'Our dataset'\n",
    "# aa2=path/'Thesis Data'/'AA dataset'\n",
    "char=path/'Thesis Data'/'char ulm'"
   ]
  },
  {
   "cell_type": "code",
   "execution_count": 4,
   "metadata": {
    "executionInfo": {
     "elapsed": 14496,
     "status": "ok",
     "timestamp": 1603038337300,
     "user": {
      "displayName": "ibrahim al azhar",
      "photoUrl": "https://lh3.googleusercontent.com/a-/AOh14GhcTQUbimVsO7p7wRuyYZSNKei7erJoiKLzcwQ3eoY=s64",
      "userId": "00085534427974934913"
     },
     "user_tz": -360
    },
    "id": "cxKiMxRzbKgr"
   },
   "outputs": [],
   "source": [
    "import pandas as pd\n",
    "\n",
    "a = pd.read_csv(news/'full_doc_train.csv')\n",
    "b = pd.read_csv(news/'full_doc_test.csv')\n",
    "df = pd.concat([a,b])\n",
    "#df2 = pd.concat([a,b]) # don't run yet(RAM error)"
   ]
  },
  {
   "cell_type": "code",
   "execution_count": null,
   "metadata": {
    "id": "SZkbbGditTI_"
   },
   "outputs": [],
   "source": [
    "'''aa = pd.read_csv('gdrive/My Drive/Colab Notebooks/ulm_train.csv')\n",
    "bb = pd.read_csv('gdrive/My Drive/Colab Notebooks/ulm_test.csv')\n",
    "df1 = pd.concat([aa,bb])\n",
    "\n",
    "def separate(str): # this method append in charachter wise\n",
    "#   return str\n",
    "  ret = \"\"\n",
    "  for c in str:\n",
    "    ret = ret+\" \"+c # add each charachter from word with space\n",
    "  return ret\n",
    "\n",
    "df1['text']=df1['text'].apply(separate) # separate charachter wise from word by applying 'separate' method\n",
    "# df.to_csv(news/'news_3less.csv',index=False) # convert the data to csv format\n",
    "df1.to_csv(char/'char-ulm.csv',index=False) # convert the data to csv format'''"
   ]
  },
  {
   "cell_type": "code",
   "execution_count": null,
   "metadata": {
    "id": "fLmvpsMLcdUZ"
   },
   "outputs": [],
   "source": [
    "def separate(str): # this method append in charachter wise\n",
    "#   return str\n",
    "  ret = \"\"\n",
    "  for c in str:\n",
    "    ret = ret+\" \"+c # add each charachter from word with space\n",
    "  return ret"
   ]
  },
  {
   "cell_type": "code",
   "execution_count": null,
   "metadata": {
    "id": "2oqA_0TuoWo-"
   },
   "outputs": [],
   "source": [
    "# df2['text']=df2['text'].apply(separate) # separate charachter wise from word by applying 'separate' method, don't run for RAM purpose"
   ]
  },
  {
   "cell_type": "code",
   "execution_count": null,
   "metadata": {
    "colab": {
     "base_uri": "https://localhost:8080/",
     "height": 204
    },
    "executionInfo": {
     "elapsed": 2018,
     "status": "ok",
     "timestamp": 1602606876522,
     "user": {
      "displayName": "ibrahim al azhar",
      "photoUrl": "https://lh3.googleusercontent.com/a-/AOh14GhcTQUbimVsO7p7wRuyYZSNKei7erJoiKLzcwQ3eoY=s64",
      "userId": "00085534427974934913"
     },
     "user_tz": -360
    },
    "id": "yWpWrMMwqlDQ",
    "outputId": "c82b98be-2739-4b51-ac8a-5e3f35fba54e"
   },
   "outputs": [
    {
     "data": {
      "text/html": [
       "<div>\n",
       "<style scoped>\n",
       "    .dataframe tbody tr th:only-of-type {\n",
       "        vertical-align: middle;\n",
       "    }\n",
       "\n",
       "    .dataframe tbody tr th {\n",
       "        vertical-align: top;\n",
       "    }\n",
       "\n",
       "    .dataframe thead th {\n",
       "        text-align: right;\n",
       "    }\n",
       "</style>\n",
       "<table border=\"1\" class=\"dataframe\">\n",
       "  <thead>\n",
       "    <tr style=\"text-align: right;\">\n",
       "      <th></th>\n",
       "      <th>label</th>\n",
       "      <th>text</th>\n",
       "      <th>is_valid</th>\n",
       "    </tr>\n",
       "  </thead>\n",
       "  <tbody>\n",
       "    <tr>\n",
       "      <th>0</th>\n",
       "      <td>opinion</td>\n",
       "      <td>উ চ ্ চ   ম া ধ ্ য ম ি ক   প র ী ক ্ ষ া র  ...</td>\n",
       "      <td>False</td>\n",
       "    </tr>\n",
       "    <tr>\n",
       "      <th>1</th>\n",
       "      <td>opinion</td>\n",
       "      <td>জ া ত ি স ং ঘ ে র   স হ ক া র ী   ম হ া স চ ি...</td>\n",
       "      <td>False</td>\n",
       "    </tr>\n",
       "    <tr>\n",
       "      <th>2</th>\n",
       "      <td>opinion</td>\n",
       "      <td>এ ক ট া   ম ে য় ে   চ ি ঠ ি   ল ি খ ে ছ ে   ত...</td>\n",
       "      <td>False</td>\n",
       "    </tr>\n",
       "    <tr>\n",
       "      <th>3</th>\n",
       "      <td>opinion</td>\n",
       "      <td>গ ত   ব ছ র ে র   ন ভ ে ম ্ ব র ে র   শ ে ষ ।...</td>\n",
       "      <td>False</td>\n",
       "    </tr>\n",
       "    <tr>\n",
       "      <th>4</th>\n",
       "      <td>opinion</td>\n",
       "      <td>ঢ া ক া ৴   আ গ ઍ ট   ১ ৫   ( ি ব ি ড ি ন উ জ...</td>\n",
       "      <td>False</td>\n",
       "    </tr>\n",
       "  </tbody>\n",
       "</table>\n",
       "</div>"
      ],
      "text/plain": [
       "     label                                               text  is_valid\n",
       "0  opinion   উ চ ্ চ   ম া ধ ্ য ম ি ক   প র ী ক ্ ষ া র  ...     False\n",
       "1  opinion   জ া ত ি স ং ঘ ে র   স হ ক া র ী   ম হ া স চ ি...     False\n",
       "2  opinion   এ ক ট া   ম ে য় ে   চ ি ঠ ি   ল ি খ ে ছ ে   ত...     False\n",
       "3  opinion   গ ত   ব ছ র ে র   ন ভ ে ম ্ ব র ে র   শ ে ষ ।...     False\n",
       "4  opinion   ঢ া ক া ৴   আ গ ઍ ট   ১ ৫   ( ি ব ি ড ি ন উ জ...     False"
      ]
     },
     "execution_count": 7,
     "metadata": {
      "tags": []
     },
     "output_type": "execute_result"
    }
   ],
   "source": [
    "# df2.head()"
   ]
  },
  {
   "cell_type": "code",
   "execution_count": null,
   "metadata": {
    "id": "5C_ibHQ6dJI3"
   },
   "outputs": [],
   "source": [
    "# df2.to_csv(news/'char_news.csv',index=False) # to_csv function exports the dataframe to csv format, don't need to indexing,convert the full_doc.csv to char_news.csv file"
   ]
  },
  {
   "cell_type": "code",
   "execution_count": null,
   "metadata": {
    "colab": {
     "base_uri": "https://localhost:8080/",
     "height": 51
    },
    "executionInfo": {
     "elapsed": 1342,
     "status": "ok",
     "timestamp": 1602608803063,
     "user": {
      "displayName": "ibrahim al azhar",
      "photoUrl": "https://lh3.googleusercontent.com/a-/AOh14GhcTQUbimVsO7p7wRuyYZSNKei7erJoiKLzcwQ3eoY=s64",
      "userId": "00085534427974934913"
     },
     "user_tz": -360
    },
    "id": "vOuFoWFWdJSY",
    "outputId": "68c6cedc-5cc8-42c6-8968-2afbc23552c8"
   },
   "outputs": [
    {
     "name": "stdout",
     "output_type": "stream",
     "text": [
      "76718\n",
      "60687\n"
     ]
    }
   ],
   "source": [
    "# print(len(df2))\n",
    "# df2 = df2[df2['label']!='politics'] # remove which label of text's is 'politics'\n",
    "# print(len(df2))"
   ]
  },
  {
   "cell_type": "code",
   "execution_count": null,
   "metadata": {
    "id": "ezMGXXbBdJ53"
   },
   "outputs": [],
   "source": [
    "# df2.to_csv(news/'char_news_!politics.csv',index=False) # convert the file and save it this format,save on a directory which is define by 'news'"
   ]
  },
  {
   "cell_type": "code",
   "execution_count": null,
   "metadata": {
    "id": "E3cd1I0S-Gtl"
   },
   "outputs": [],
   "source": []
  },
  {
   "cell_type": "code",
   "execution_count": null,
   "metadata": {
    "colab": {
     "base_uri": "https://localhost:8080/",
     "height": 51
    },
    "executionInfo": {
     "elapsed": 11768,
     "status": "ok",
     "timestamp": 1602608865781,
     "user": {
      "displayName": "ibrahim al azhar",
      "photoUrl": "https://lh3.googleusercontent.com/a-/AOh14GhcTQUbimVsO7p7wRuyYZSNKei7erJoiKLzcwQ3eoY=s64",
      "userId": "00085534427974934913"
     },
     "user_tz": -360
    },
    "id": "hG7Gw53tdJ9P",
    "outputId": "baedff59-0815-4298-c390-1ac96a211bfb"
   },
   "outputs": [
    {
     "name": "stdout",
     "output_type": "stream",
     "text": [
      "60687\n",
      "41391\n"
     ]
    }
   ],
   "source": [
    "# df2=pd.read_csv(news/'char_news_!politics.csv') # read a csv values file into dataframe,this csv file don't has 'politics' label\n",
    "# print(len(df2))\n",
    "# df2 = df2[df2['label']!='education'] # remove text label 'education'\n",
    "# df2 = df2[df2['label']!='sports'] # remove text label 'sports'\n",
    "# print(len(df2))\n",
    "# df2.to_csv(news/'char_news_3less.csv',index=False) # export this csv file into a csv format by using 'to_csv',here remove 3 labels(most freuquent) of text which is 'education','sports' and 'politics' "
   ]
  },
  {
   "cell_type": "code",
   "execution_count": null,
   "metadata": {
    "colab": {
     "base_uri": "https://localhost:8080/",
     "height": 51
    },
    "executionInfo": {
     "elapsed": 1537,
     "status": "ok",
     "timestamp": 1602608869540,
     "user": {
      "displayName": "ibrahim al azhar",
      "photoUrl": "https://lh3.googleusercontent.com/a-/AOh14GhcTQUbimVsO7p7wRuyYZSNKei7erJoiKLzcwQ3eoY=s64",
      "userId": "00085534427974934913"
     },
     "user_tz": -360
    },
    "id": "j8o-ai6_dKBh",
    "outputId": "3ce4037b-58b3-4024-f862-49a7409a8cbb"
   },
   "outputs": [
    {
     "data": {
      "text/plain": [
       "array(['opinion', 'international', 'economics', 'art', 'science_tech', 'crime', 'accident', 'environment',\n",
       "       'entertainment'], dtype=object)"
      ]
     },
     "execution_count": 15,
     "metadata": {
      "tags": []
     },
     "output_type": "execute_result"
    }
   ],
   "source": [
    "# df2['label'].unique() # pandas unique function on a variable of interest to get unique values of the column"
   ]
  },
  {
   "cell_type": "code",
   "execution_count": 5,
   "metadata": {
    "colab": {
     "base_uri": "https://localhost:8080/",
     "height": 34
    },
    "executionInfo": {
     "elapsed": 5949,
     "status": "ok",
     "timestamp": 1603038498050,
     "user": {
      "displayName": "ibrahim al azhar",
      "photoUrl": "https://lh3.googleusercontent.com/a-/AOh14GhcTQUbimVsO7p7wRuyYZSNKei7erJoiKLzcwQ3eoY=s64",
      "userId": "00085534427974934913"
     },
     "user_tz": -360
    },
    "id": "xUTUdCU-dJ4Y",
    "outputId": "71c98bf6-f7b1-4835-90c3-43d7746b354f"
   },
   "outputs": [
    {
     "name": "stdout",
     "output_type": "stream",
     "text": [
      "51690\n"
     ]
    }
   ],
   "source": [
    "# we have to works with word level,if we works with charchter level then it exits the RAM limit\n",
    "# here remove 'politics','education','sports' labels of text which is frequently occur in dataset and set it to news_3less.csv file\n",
    "df = df[df['label']!='politics'] # remove the label which is 'politics'\n",
    "df = df[df['label']!='education'] # remove the label which is 'education'\n",
    "df = df[df['label']!='sports'] # remove the label which is 'sports'\n",
    "print(len(df))\n",
    "df.to_csv(news/'news_3less.csv',index=False) # convert the data to csv format"
   ]
  },
  {
   "cell_type": "code",
   "execution_count": 6,
   "metadata": {
    "colab": {
     "base_uri": "https://localhost:8080/",
     "height": 204
    },
    "executionInfo": {
     "elapsed": 1490,
     "status": "ok",
     "timestamp": 1603038570568,
     "user": {
      "displayName": "ibrahim al azhar",
      "photoUrl": "https://lh3.googleusercontent.com/a-/AOh14GhcTQUbimVsO7p7wRuyYZSNKei7erJoiKLzcwQ3eoY=s64",
      "userId": "00085534427974934913"
     },
     "user_tz": -360
    },
    "id": "J4mQBkpydJQ0",
    "outputId": "95d35500-9183-4c3f-e4b9-f7f39f3b5522"
   },
   "outputs": [
    {
     "data": {
      "text/html": [
       "<div>\n",
       "<style scoped>\n",
       "    .dataframe tbody tr th:only-of-type {\n",
       "        vertical-align: middle;\n",
       "    }\n",
       "\n",
       "    .dataframe tbody tr th {\n",
       "        vertical-align: top;\n",
       "    }\n",
       "\n",
       "    .dataframe thead th {\n",
       "        text-align: right;\n",
       "    }\n",
       "</style>\n",
       "<table border=\"1\" class=\"dataframe\">\n",
       "  <thead>\n",
       "    <tr style=\"text-align: right;\">\n",
       "      <th></th>\n",
       "      <th>label</th>\n",
       "      <th>text</th>\n",
       "      <th>is_valid</th>\n",
       "    </tr>\n",
       "  </thead>\n",
       "  <tbody>\n",
       "    <tr>\n",
       "      <th>0</th>\n",
       "      <td>opinion</td>\n",
       "      <td>উচ্চ মাধ্যমিক পরীক্ষার আগের দিন মঙ্গলবার এক বি...</td>\n",
       "      <td>False</td>\n",
       "    </tr>\n",
       "    <tr>\n",
       "      <th>1</th>\n",
       "      <td>opinion</td>\n",
       "      <td>জাতিসংঘের সহকারী মহাসচিব অস্কার ফার্নান্দেজ তা...</td>\n",
       "      <td>False</td>\n",
       "    </tr>\n",
       "    <tr>\n",
       "      <th>2</th>\n",
       "      <td>opinion</td>\n",
       "      <td>একটা মেয়ে চিঠি লিখেছে তার বাবাকে। ইংরেজিতে লেখ...</td>\n",
       "      <td>False</td>\n",
       "    </tr>\n",
       "    <tr>\n",
       "      <th>3</th>\n",
       "      <td>opinion</td>\n",
       "      <td>গত বছরের নভেম্বরের শেষ। হেমন্তের সকাল।শীত আসি ...</td>\n",
       "      <td>False</td>\n",
       "    </tr>\n",
       "    <tr>\n",
       "      <th>4</th>\n",
       "      <td>opinion</td>\n",
       "      <td>ঢাকা৴ আগઍট ১৫ (িবিডিনউজ)- সমান পদমযગাদার অনઘান...</td>\n",
       "      <td>False</td>\n",
       "    </tr>\n",
       "  </tbody>\n",
       "</table>\n",
       "</div>"
      ],
      "text/plain": [
       "     label                                               text  is_valid\n",
       "0  opinion  উচ্চ মাধ্যমিক পরীক্ষার আগের দিন মঙ্গলবার এক বি...     False\n",
       "1  opinion  জাতিসংঘের সহকারী মহাসচিব অস্কার ফার্নান্দেজ তা...     False\n",
       "2  opinion  একটা মেয়ে চিঠি লিখেছে তার বাবাকে। ইংরেজিতে লেখ...     False\n",
       "3  opinion  গত বছরের নভেম্বরের শেষ। হেমন্তের সকাল।শীত আসি ...     False\n",
       "4  opinion  ঢাকা৴ আগઍট ১৫ (িবিডিনউজ)- সমান পদমযગাদার অনઘান...     False"
      ]
     },
     "execution_count": 6,
     "metadata": {
      "tags": []
     },
     "output_type": "execute_result"
    }
   ],
   "source": [
    "df.head()"
   ]
  },
  {
   "cell_type": "code",
   "execution_count": 7,
   "metadata": {
    "executionInfo": {
     "elapsed": 1617,
     "status": "ok",
     "timestamp": 1603038587715,
     "user": {
      "displayName": "ibrahim al azhar",
      "photoUrl": "https://lh3.googleusercontent.com/a-/AOh14GhcTQUbimVsO7p7wRuyYZSNKei7erJoiKLzcwQ3eoY=s64",
      "userId": "00085534427974934913"
     },
     "user_tz": -360
    },
    "id": "HRaEsI_3dJHP"
   },
   "outputs": [],
   "source": [
    "# bs=32\n",
    "bs = 32\n",
    "bptt = 70\n",
    "vocab = \" !\\\"#$%&'()*+,-./0123456789:;=<>?@ABCDEFGHIJKLMNOPQRSTUVWXYZ[]^_`abcdefghijklmnopqrstuvwxyz{|}~¥§©±ঃঅআইঈউঊঋএঐওঔকখগঘঙচছজঝঞটঠডঢণতথদধনপফবভমযরলশষসহ়ািীুূৃেৈোৌ্ৎৗড়ঢ়য়০১২৩৪৫৬৭৮৯৷‘’‚“”‪™−√∝∞\""
   ]
  },
  {
   "cell_type": "code",
   "execution_count": 8,
   "metadata": {
    "executionInfo": {
     "elapsed": 1522,
     "status": "ok",
     "timestamp": 1603038601299,
     "user": {
      "displayName": "ibrahim al azhar",
      "photoUrl": "https://lh3.googleusercontent.com/a-/AOh14GhcTQUbimVsO7p7wRuyYZSNKei7erJoiKLzcwQ3eoY=s64",
      "userId": "00085534427974934913"
     },
     "user_tz": -360
    },
    "id": "dz-a7NlzlK03"
   },
   "outputs": [],
   "source": [
    "class NewTokenizer(BaseTokenizer): # apply tokenizer where inheirts from 'BaseTokenizer'\n",
    "    def tokenizer(self,t):\n",
    "      return [BOS]+[i for i in t]"
   ]
  },
  {
   "cell_type": "code",
   "execution_count": 9,
   "metadata": {
    "executionInfo": {
     "elapsed": 1480,
     "status": "ok",
     "timestamp": 1603038608107,
     "user": {
      "displayName": "ibrahim al azhar",
      "photoUrl": "https://lh3.googleusercontent.com/a-/AOh14GhcTQUbimVsO7p7wRuyYZSNKei7erJoiKLzcwQ3eoY=s64",
      "userId": "00085534427974934913"
     },
     "user_tz": -360
    },
    "id": "2XfjpQomlpiP"
   },
   "outputs": [],
   "source": [
    "# 'xxunk',\n",
    "#  'xxpad',\n",
    "#  'xxbos',\n",
    "#  'xxeos',\n",
    "#  'xxfld',\n",
    "#  'xxmaj',\n",
    "#  'xxup',\n",
    "#  'xxrep',\n",
    "#  'xxwrep'"
   ]
  },
  {
   "cell_type": "code",
   "execution_count": 10,
   "metadata": {
    "colab": {
     "base_uri": "https://localhost:8080/",
     "height": 34
    },
    "executionInfo": {
     "elapsed": 1624,
     "status": "ok",
     "timestamp": 1603038612085,
     "user": {
      "displayName": "ibrahim al azhar",
      "photoUrl": "https://lh3.googleusercontent.com/a-/AOh14GhcTQUbimVsO7p7wRuyYZSNKei7erJoiKLzcwQ3eoY=s64",
      "userId": "00085534427974934913"
     },
     "user_tz": -360
    },
    "id": "oWoi4WCSl5ff",
    "outputId": "d28a9478-3bd0-4dbf-8b15-729d38875a4a"
   },
   "outputs": [
    {
     "data": {
      "text/plain": [
       "('xxunk', 'xxpad', 'xxbos', 'xxeos', 'xxfld', 'xxrep', 'xxwrep')"
      ]
     },
     "execution_count": 10,
     "metadata": {
      "tags": []
     },
     "output_type": "execute_result"
    }
   ],
   "source": [
    "UNK, PAD, BOS, EOS, FLD, TK_REP, TK_WREP"
   ]
  },
  {
   "cell_type": "code",
   "execution_count": 11,
   "metadata": {
    "executionInfo": {
     "elapsed": 1612,
     "status": "ok",
     "timestamp": 1603038615416,
     "user": {
      "displayName": "ibrahim al azhar",
      "photoUrl": "https://lh3.googleusercontent.com/a-/AOh14GhcTQUbimVsO7p7wRuyYZSNKei7erJoiKLzcwQ3eoY=s64",
      "userId": "00085534427974934913"
     },
     "user_tz": -360
    },
    "id": "KjAX1Y6Hl9lh"
   },
   "outputs": [],
   "source": [
    "itos = [UNK, PAD, BOS, EOS, FLD, TK_REP, TK_WREP] + [i for i in vocab]"
   ]
  },
  {
   "cell_type": "code",
   "execution_count": 12,
   "metadata": {
    "colab": {
     "base_uri": "https://localhost:8080/",
     "height": 34
    },
    "executionInfo": {
     "elapsed": 1623,
     "status": "ok",
     "timestamp": 1603038618275,
     "user": {
      "displayName": "ibrahim al azhar",
      "photoUrl": "https://lh3.googleusercontent.com/a-/AOh14GhcTQUbimVsO7p7wRuyYZSNKei7erJoiKLzcwQ3eoY=s64",
      "userId": "00085534427974934913"
     },
     "user_tz": -360
    },
    "id": "8ryLeRFhl9pb",
    "outputId": "e2810c22-3d56-42a2-d5e1-5a2e2e75d260"
   },
   "outputs": [
    {
     "data": {
      "text/plain": [
       "188"
      ]
     },
     "execution_count": 12,
     "metadata": {
      "tags": []
     },
     "output_type": "execute_result"
    }
   ],
   "source": [
    "len(itos)"
   ]
  },
  {
   "cell_type": "code",
   "execution_count": 13,
   "metadata": {
    "executionInfo": {
     "elapsed": 1811,
     "status": "ok",
     "timestamp": 1603038622614,
     "user": {
      "displayName": "ibrahim al azhar",
      "photoUrl": "https://lh3.googleusercontent.com/a-/AOh14GhcTQUbimVsO7p7wRuyYZSNKei7erJoiKLzcwQ3eoY=s64",
      "userId": "00085534427974934913"
     },
     "user_tz": -360
    },
    "id": "599B5C-nl9kH"
   },
   "outputs": [],
   "source": [
    "vocab=Vocab(itos) # create a instance of Vocabulary class and pass itos as a parameter\n",
    "tokenizer=Tokenizer(NewTokenizer, pre_rules=[], post_rules=[]) # create a instance of Tokenizer class and pass the parameter NewTokenizer,pre_rules an post_rules"
   ]
  },
  {
   "cell_type": "markdown",
   "metadata": {
    "id": "JuAMY_I-mV34"
   },
   "source": [
    "On half dataset\n"
   ]
  },
  {
   "cell_type": "code",
   "execution_count": 14,
   "metadata": {
    "colab": {
     "base_uri": "https://localhost:8080/",
     "height": 17
    },
    "executionInfo": {
     "elapsed": 93949,
     "status": "ok",
     "timestamp": 1603038737449,
     "user": {
      "displayName": "ibrahim al azhar",
      "photoUrl": "https://lh3.googleusercontent.com/a-/AOh14GhcTQUbimVsO7p7wRuyYZSNKei7erJoiKLzcwQ3eoY=s64",
      "userId": "00085534427974934913"
     },
     "user_tz": -360
    },
    "id": "xfi__jYzmOgJ",
    "outputId": "ff75e3da-f196-48fd-eba0-efda6c60ec18"
   },
   "outputs": [
    {
     "data": {
      "text/html": [],
      "text/plain": [
       "<IPython.core.display.HTML object>"
      ]
     },
     "metadata": {
      "tags": []
     },
     "output_type": "display_data"
    },
    {
     "data": {
      "text/html": [],
      "text/plain": [
       "<IPython.core.display.HTML object>"
      ]
     },
     "metadata": {
      "tags": []
     },
     "output_type": "display_data"
    }
   ],
   "source": [
    "# use TextLMDataBunch to create a language model specific data bunch\n",
    "data_lm = TextLMDataBunch.from_csv(news , 'news_3less.csv', bs=bs , bptt=bptt,tokenizer=tokenizer, vocab=vocab) # read 'news_3less' csv file as a Databunch\n",
    "data_lm.save('news_char_3less.pkl')\n"
   ]
  },
  {
   "cell_type": "code",
   "execution_count": 15,
   "metadata": {
    "executionInfo": {
     "elapsed": 6203,
     "status": "ok",
     "timestamp": 1603038771851,
     "user": {
      "displayName": "ibrahim al azhar",
      "photoUrl": "https://lh3.googleusercontent.com/a-/AOh14GhcTQUbimVsO7p7wRuyYZSNKei7erJoiKLzcwQ3eoY=s64",
      "userId": "00085534427974934913"
     },
     "user_tz": -360
    },
    "id": "zro25zQ2l5h9"
   },
   "outputs": [],
   "source": [
    "data_lm = load_data(news, 'news_char_3less.pkl', bs=bs)"
   ]
  },
  {
   "cell_type": "code",
   "execution_count": 16,
   "metadata": {
    "colab": {
     "base_uri": "https://localhost:8080/",
     "height": 289
    },
    "executionInfo": {
     "elapsed": 11711,
     "status": "ok",
     "timestamp": 1603038829145,
     "user": {
      "displayName": "ibrahim al azhar",
      "photoUrl": "https://lh3.googleusercontent.com/a-/AOh14GhcTQUbimVsO7p7wRuyYZSNKei7erJoiKLzcwQ3eoY=s64",
      "userId": "00085534427974934913"
     },
     "user_tz": -360
    },
    "id": "vMcG86OG_WQL",
    "outputId": "1da5d811-208b-4fe2-bac9-207e5f315987"
   },
   "outputs": [
    {
     "name": "stderr",
     "output_type": "stream",
     "text": [
      "/usr/local/lib/python3.6/dist-packages/fastai/text/data.py:337: UserWarning: This overload of nonzero is deprecated:\n",
      "\tnonzero()\n",
      "Consider using one of the following signatures instead:\n",
      "\tnonzero(*, bool as_tuple) (Triggered internally at  /pytorch/torch/csrc/utils/python_arg_parser.cpp:766.)\n",
      "  idx_min = (t != self.pad_idx).nonzero().min()\n"
     ]
    },
    {
     "data": {
      "text/html": [
       "<table border=\"1\" class=\"dataframe\">\n",
       "  <thead>\n",
       "    <tr style=\"text-align: right;\">\n",
       "      <th>idx</th>\n",
       "      <th>text</th>\n",
       "    </tr>\n",
       "  </thead>\n",
       "  <tbody>\n",
       "    <tr>\n",
       "      <td>0</td>\n",
       "      <td>়   প ে ট ্ র ল ব ো ম া   হ া ম ল া য ়   দ গ ্ ধ   হ ও য ় া র   এ ক   দ ি ন   প র   গ ত   ব ৃ হ স ্ প ত ি ব া র   র া</td>\n",
       "    </tr>\n",
       "    <tr>\n",
       "      <td>1</td>\n",
       "      <td>শ ি প   ন ি র ্ ম া ণ   ক র া   হ ব ে xxunk   “ ব ি দ ্ য ু ৎ   ক ে ন ্ দ ্ র ট ি   আ ল ্ ট ্ র া - স ু প া র   ক ্ র ি ট ি ক ্ য</td>\n",
       "    </tr>\n",
       "    <tr>\n",
       "      <td>2</td>\n",
       "      <td>ক র ল ে ই   ত া দ ে র   ক া র ্ য া ল য ়   প ু ল ি শ   দ ি য ় ে   অ ব র ু দ ্ ধ   ক র া   স ম ্ প ূ র ্ ণ   অ গ ণ ত া</td>\n",
       "    </tr>\n",
       "    <tr>\n",
       "      <td>3</td>\n",
       "      <td>ি স ে ম ্ ব র   জ া ত ি স xxunk ঘ ে র   গ ব ে ষ ক   দ ল   ব া xxunk ল া দ ে শ ে   আ স ে xxunk   ত া র া   গ ত   ২ ২   থ ে ক ে   ২ ৭</td>\n",
       "    </tr>\n",
       "    <tr>\n",
       "      <td>4</td>\n",
       "      <td>স ম য় ে র   থ ি ব ি র   জ ন গ ণ   য ে   দ ি ন র া ত   য া প ন   ক র ে ছ ে ন ,   ত া র   থ ে ক ে   ব া xxunk ল া দ ে শ   ক ত</td>\n",
       "    </tr>\n",
       "  </tbody>\n",
       "</table>"
      ],
      "text/plain": [
       "<IPython.core.display.HTML object>"
      ]
     },
     "metadata": {
      "tags": []
     },
     "output_type": "display_data"
    }
   ],
   "source": [
    "data_lm.show_batch()"
   ]
  },
  {
   "cell_type": "code",
   "execution_count": 17,
   "metadata": {
    "colab": {
     "base_uri": "https://localhost:8080/",
     "height": 52
    },
    "executionInfo": {
     "elapsed": 1507,
     "status": "ok",
     "timestamp": 1603038847071,
     "user": {
      "displayName": "ibrahim al azhar",
      "photoUrl": "https://lh3.googleusercontent.com/a-/AOh14GhcTQUbimVsO7p7wRuyYZSNKei7erJoiKLzcwQ3eoY=s64",
      "userId": "00085534427974934913"
     },
     "user_tz": -360
    },
    "id": "6geMIO9j_oVg",
    "outputId": "d2ed1621-a8f7-4998-8334-43328e5c3abe"
   },
   "outputs": [
    {
     "data": {
      "application/vnd.google.colaboratory.intrinsic+json": {
       "type": "string"
      },
      "text/plain": [
       "'xxunkxxpadxxbosxxeosxxfldxxrepxxwrep !\"#$%&\\'()*+,-./0123456789:;=<>?@ABCDEFGHIJKLMNOPQRSTUVWXYZ[]^_`abcdefghijklmnopqrstuvwxyz{|}~¥§©±ঃঅআইঈউঊঋএঐওঔকখগঘঙচছজঝঞটঠডঢণতথদধনপফবভমযরলশষসহ়ািীুূৃেৈোৌ্ৎৗড়ঢ়য়০১২৩৪৫৬৭৮৯৷‘’‚“”\\u202a™−√∝∞'"
      ]
     },
     "execution_count": 17,
     "metadata": {
      "tags": []
     },
     "output_type": "execute_result"
    }
   ],
   "source": [
    "''.join(data_lm.train_dl.vocab.itos) # join dala_lm, train_dl with vocab and itos"
   ]
  },
  {
   "cell_type": "code",
   "execution_count": 18,
   "metadata": {
    "colab": {
     "base_uri": "https://localhost:8080/",
     "height": 34
    },
    "executionInfo": {
     "elapsed": 2111,
     "status": "ok",
     "timestamp": 1603038880213,
     "user": {
      "displayName": "ibrahim al azhar",
      "photoUrl": "https://lh3.googleusercontent.com/a-/AOh14GhcTQUbimVsO7p7wRuyYZSNKei7erJoiKLzcwQ3eoY=s64",
      "userId": "00085534427974934913"
     },
     "user_tz": -360
    },
    "id": "IOAbAT8H_zJQ",
    "outputId": "80090ceb-9612-442b-8c53-28f86f635dbb"
   },
   "outputs": [
    {
     "data": {
      "text/plain": [
       "['xxunk', 'xxpad', 'xxbos', 'xxeos', 'xxfld', 'xxrep', 'xxwrep', ' ', '!', '\"']"
      ]
     },
     "execution_count": 18,
     "metadata": {
      "tags": []
     },
     "output_type": "execute_result"
    }
   ],
   "source": [
    "data_lm.train_dl.vocab.itos[:10] # print first 10 items"
   ]
  },
  {
   "cell_type": "code",
   "execution_count": 19,
   "metadata": {
    "colab": {
     "base_uri": "https://localhost:8080/",
     "height": 34
    },
    "executionInfo": {
     "elapsed": 1544,
     "status": "ok",
     "timestamp": 1603038889785,
     "user": {
      "displayName": "ibrahim al azhar",
      "photoUrl": "https://lh3.googleusercontent.com/a-/AOh14GhcTQUbimVsO7p7wRuyYZSNKei7erJoiKLzcwQ3eoY=s64",
      "userId": "00085534427974934913"
     },
     "user_tz": -360
    },
    "id": "2vTam5RF_6aI",
    "outputId": "0e6ad91c-86c3-45b6-c3cd-14e9f270239d"
   },
   "outputs": [
    {
     "data": {
      "text/plain": [
       "188"
      ]
     },
     "execution_count": 19,
     "metadata": {
      "tags": []
     },
     "output_type": "execute_result"
    }
   ],
   "source": [
    "len(data_lm.train_dl.vocab.itos)"
   ]
  },
  {
   "cell_type": "code",
   "execution_count": 20,
   "metadata": {
    "executionInfo": {
     "elapsed": 1109,
     "status": "ok",
     "timestamp": 1603038927247,
     "user": {
      "displayName": "ibrahim al azhar",
      "photoUrl": "https://lh3.googleusercontent.com/a-/AOh14GhcTQUbimVsO7p7wRuyYZSNKei7erJoiKLzcwQ3eoY=s64",
      "userId": "00085534427974934913"
     },
     "user_tz": -360
    },
    "id": "1hjnKbu0_-YI"
   },
   "outputs": [],
   "source": [
    "# the most important functions of this module are language_model_learner and text_classifier_learner,they will help you define a learner using a pretrained model\n",
    "learn = language_model_learner(data_lm, AWD_LSTM, pretrained=False, drop_mult=0.5) # this is the first stage of training,where we use the pretrained language model weights,first param is our language model data,right now here don't use pretrained,drop mult is set the amount of dropout\n"
   ]
  },
  {
   "cell_type": "code",
   "execution_count": 21,
   "metadata": {
    "colab": {
     "base_uri": "https://localhost:8080/",
     "height": 374
    },
    "executionInfo": {
     "elapsed": 12422,
     "status": "ok",
     "timestamp": 1603038952164,
     "user": {
      "displayName": "ibrahim al azhar",
      "photoUrl": "https://lh3.googleusercontent.com/a-/AOh14GhcTQUbimVsO7p7wRuyYZSNKei7erJoiKLzcwQ3eoY=s64",
      "userId": "00085534427974934913"
     },
     "user_tz": -360
    },
    "id": "_GYeLInzACNJ",
    "outputId": "5f1b9b55-ddfb-4c5b-8233-6648737450f3"
   },
   "outputs": [
    {
     "data": {
      "text/html": [
       "\n",
       "    <div>\n",
       "        <style>\n",
       "            /* Turns off some styling */\n",
       "            progress {\n",
       "                /* gets rid of default border in Firefox and Opera. */\n",
       "                border: none;\n",
       "                /* Needs to be in here for Safari polyfill so background images work as expected. */\n",
       "                background-size: auto;\n",
       "            }\n",
       "            .progress-bar-interrupted, .progress-bar-interrupted::-webkit-progress-bar {\n",
       "                background: #F44336;\n",
       "            }\n",
       "        </style>\n",
       "      <progress value='0' class='' max='1' style='width:300px; height:20px; vertical-align: middle;'></progress>\n",
       "      0.00% [0/1 00:00<00:00]\n",
       "    </div>\n",
       "    \n",
       "<table border=\"1\" class=\"dataframe\">\n",
       "  <thead>\n",
       "    <tr style=\"text-align: left;\">\n",
       "      <th>epoch</th>\n",
       "      <th>train_loss</th>\n",
       "      <th>valid_loss</th>\n",
       "      <th>accuracy</th>\n",
       "      <th>time</th>\n",
       "    </tr>\n",
       "  </thead>\n",
       "  <tbody>\n",
       "  </tbody>\n",
       "</table><p>\n",
       "\n",
       "    <div>\n",
       "        <style>\n",
       "            /* Turns off some styling */\n",
       "            progress {\n",
       "                /* gets rid of default border in Firefox and Opera. */\n",
       "                border: none;\n",
       "                /* Needs to be in here for Safari polyfill so background images work as expected. */\n",
       "                background-size: auto;\n",
       "            }\n",
       "            .progress-bar-interrupted, .progress-bar-interrupted::-webkit-progress-bar {\n",
       "                background: #F44336;\n",
       "            }\n",
       "        </style>\n",
       "      <progress value='95' class='' max='36548' style='width:300px; height:20px; vertical-align: middle;'></progress>\n",
       "      0.26% [95/36548 00:09<1:01:18 14.2170]\n",
       "    </div>\n",
       "    "
      ],
      "text/plain": [
       "<IPython.core.display.HTML object>"
      ]
     },
     "metadata": {
      "tags": []
     },
     "output_type": "display_data"
    },
    {
     "name": "stdout",
     "output_type": "stream",
     "text": [
      "LR Finder is complete, type {learner_name}.recorder.plot() to see the graph.\n"
     ]
    },
    {
     "data": {
      "image/png": "[encoded data removed]",
      "text/plain": [
       "<Figure size 432x288 with 1 Axes>"
      ]
     },
     "metadata": {
      "needs_background": "light",
      "tags": []
     },
     "output_type": "display_data"
    }
   ],
   "source": [
    "learn.lr_find() # this method to serach through a range of learning rates to find the optimum one for our dataset,learning rate finder will increase the learning rate after each mini batch\n",
    "learn.recorder.plot() "
   ]
  },
  {
   "cell_type": "code",
   "execution_count": 22,
   "metadata": {
    "colab": {
     "base_uri": "https://localhost:8080/",
     "height": 279
    },
    "executionInfo": {
     "elapsed": 1711,
     "status": "ok",
     "timestamp": 1603038967164,
     "user": {
      "displayName": "ibrahim al azhar",
      "photoUrl": "https://lh3.googleusercontent.com/a-/AOh14GhcTQUbimVsO7p7wRuyYZSNKei7erJoiKLzcwQ3eoY=s64",
      "userId": "00085534427974934913"
     },
     "user_tz": -360
    },
    "id": "orSacc_uAQ-4",
    "outputId": "598de007-964f-43b8-ab07-89cbeb7783ac"
   },
   "outputs": [
    {
     "data": {
      "image/png": "[encoded data removed]",
      "text/plain": [
       "<Figure size 432x288 with 1 Axes>"
      ]
     },
     "metadata": {
      "needs_background": "light",
      "tags": []
     },
     "output_type": "display_data"
    }
   ],
   "source": [
    "learn.recorder.plot(skip_end=15)"
   ]
  },
  {
   "cell_type": "code",
   "execution_count": 23,
   "metadata": {
    "colab": {
     "base_uri": "https://localhost:8080/",
     "height": 112
    },
    "executionInfo": {
     "elapsed": 82404,
     "status": "ok",
     "timestamp": 1603043158893,
     "user": {
      "displayName": "ibrahim al azhar",
      "photoUrl": "https://lh3.googleusercontent.com/a-/AOh14GhcTQUbimVsO7p7wRuyYZSNKei7erJoiKLzcwQ3eoY=s64",
      "userId": "00085534427974934913"
     },
     "user_tz": -360
    },
    "id": "_a9pPesrAhiI",
    "outputId": "b2974a1e-af68-4ee9-d1ef-0fd154d4c16b"
   },
   "outputs": [
    {
     "data": {
      "text/html": [
       "\n",
       "    <div>\n",
       "        <style>\n",
       "            /* Turns off some styling */\n",
       "            progress {\n",
       "                /* gets rid of default border in Firefox and Opera. */\n",
       "                border: none;\n",
       "                /* Needs to be in here for Safari polyfill so background images work as expected. */\n",
       "                background-size: auto;\n",
       "            }\n",
       "            .progress-bar-interrupted, .progress-bar-interrupted::-webkit-progress-bar {\n",
       "                background: #F44336;\n",
       "            }\n",
       "        </style>\n",
       "      <progress value='0' class='' max='1' style='width:300px; height:20px; vertical-align: middle;'></progress>\n",
       "      0.00% [0/1 00:00<00:00]\n",
       "    </div>\n",
       "    \n",
       "<table border=\"1\" class=\"dataframe\">\n",
       "  <thead>\n",
       "    <tr style=\"text-align: left;\">\n",
       "      <th>epoch</th>\n",
       "      <th>train_loss</th>\n",
       "      <th>valid_loss</th>\n",
       "      <th>accuracy</th>\n",
       "      <th>time</th>\n",
       "    </tr>\n",
       "  </thead>\n",
       "  <tbody>\n",
       "  </tbody>\n",
       "</table><p>\n",
       "\n",
       "    <div>\n",
       "        <style>\n",
       "            /* Turns off some styling */\n",
       "            progress {\n",
       "                /* gets rid of default border in Firefox and Opera. */\n",
       "                border: none;\n",
       "                /* Needs to be in here for Safari polyfill so background images work as expected. */\n",
       "                background-size: auto;\n",
       "            }\n",
       "            .progress-bar-interrupted, .progress-bar-interrupted::-webkit-progress-bar {\n",
       "                background: #F44336;\n",
       "            }\n",
       "        </style>\n",
       "      <progress value='21585' class='' max='36548' style='width:300px; height:20px; vertical-align: middle;'></progress>\n",
       "      59.06% [21585/36548 37:05<25:42 3.0409]\n",
       "    </div>\n",
       "    "
      ],
      "text/plain": [
       "<IPython.core.display.HTML object>"
      ]
     },
     "metadata": {
      "tags": []
     },
     "output_type": "display_data"
    },
    {
     "name": "stdout",
     "output_type": "stream",
     "text": [
      "Buffered data was truncated after reaching the output size limit."
     ]
    }
   ],
   "source": [
    "# running\n",
    "learn.fit_one_cycle(1, 1e-2) # training the dataset on just one epoch,and 2nd parameter is low learning rate on initial layers and later gradually increase the laerning rates\n",
    "learn.save('news_char_3less_1');"
   ]
  },
  {
   "cell_type": "code",
   "execution_count": 24,
   "metadata": {
    "executionInfo": {
     "elapsed": 3808,
     "status": "ok",
     "timestamp": 1603043364428,
     "user": {
      "displayName": "ibrahim al azhar",
      "photoUrl": "https://lh3.googleusercontent.com/a-/AOh14GhcTQUbimVsO7p7wRuyYZSNKei7erJoiKLzcwQ3eoY=s64",
      "userId": "00085534427974934913"
     },
     "user_tz": -360
    },
    "id": "4q6B40M51Bih"
   },
   "outputs": [],
   "source": [
    "learn.save('news_char_3less_1');"
   ]
  },
  {
   "cell_type": "code",
   "execution_count": null,
   "metadata": {
    "colab": {
     "base_uri": "https://localhost:8080/",
     "height": 114
    },
    "executionInfo": {
     "elapsed": 3254774,
     "status": "ok",
     "timestamp": 1602715293339,
     "user": {
      "displayName": "ibrahim al azhar",
      "photoUrl": "https://lh3.googleusercontent.com/a-/AOh14GhcTQUbimVsO7p7wRuyYZSNKei7erJoiKLzcwQ3eoY=s64",
      "userId": "00085534427974934913"
     },
     "user_tz": -360
    },
    "id": "blciFdGRdRQs",
    "outputId": "57775b3c-fdc7-461a-d9c4-ab4e6c334401"
   },
   "outputs": [
    {
     "name": "stderr",
     "output_type": "stream",
     "text": [
      "/usr/local/lib/python3.6/dist-packages/fastai/basic_train.py:327: UserWarning: Wasn't able to properly load the optimizer state again.\n",
      "  except: warn(\"Wasn't able to properly load the optimizer state again.\")\n"
     ]
    },
    {
     "data": {
      "text/html": [
       "<table border=\"1\" class=\"dataframe\">\n",
       "  <thead>\n",
       "    <tr style=\"text-align: left;\">\n",
       "      <th>epoch</th>\n",
       "      <th>train_loss</th>\n",
       "      <th>valid_loss</th>\n",
       "      <th>accuracy</th>\n",
       "      <th>time</th>\n",
       "    </tr>\n",
       "  </thead>\n",
       "  <tbody>\n",
       "    <tr>\n",
       "      <td>0</td>\n",
       "      <td>1.422709</td>\n",
       "      <td>1.370326</td>\n",
       "      <td>0.599538</td>\n",
       "      <td>54:09</td>\n",
       "    </tr>\n",
       "  </tbody>\n",
       "</table>"
      ],
      "text/plain": [
       "<IPython.core.display.HTML object>"
      ]
     },
     "metadata": {
      "tags": []
     },
     "output_type": "display_data"
    }
   ],
   "source": [
    "# nwo\n",
    "learn.load('news_char_3less_1');\n",
    "learn.fit_one_cycle(1, 1e-2) # after each training we have save to save it on a file\n",
    "learn.save('news_char_3less_2');"
   ]
  },
  {
   "cell_type": "code",
   "execution_count": null,
   "metadata": {
    "colab": {
     "base_uri": "https://localhost:8080/",
     "height": 80
    },
    "executionInfo": {
     "elapsed": 3133633,
     "status": "ok",
     "timestamp": 1602718461978,
     "user": {
      "displayName": "ibrahim al azhar",
      "photoUrl": "https://lh3.googleusercontent.com/a-/AOh14GhcTQUbimVsO7p7wRuyYZSNKei7erJoiKLzcwQ3eoY=s64",
      "userId": "00085534427974934913"
     },
     "user_tz": -360
    },
    "id": "BgJ_MaRAko80",
    "outputId": "25d8d415-df01-4cfa-ee57-b43deefc3416"
   },
   "outputs": [
    {
     "data": {
      "text/html": [
       "<table border=\"1\" class=\"dataframe\">\n",
       "  <thead>\n",
       "    <tr style=\"text-align: left;\">\n",
       "      <th>epoch</th>\n",
       "      <th>train_loss</th>\n",
       "      <th>valid_loss</th>\n",
       "      <th>accuracy</th>\n",
       "      <th>time</th>\n",
       "    </tr>\n",
       "  </thead>\n",
       "  <tbody>\n",
       "    <tr>\n",
       "      <td>0</td>\n",
       "      <td>1.329861</td>\n",
       "      <td>1.253091</td>\n",
       "      <td>0.630889</td>\n",
       "      <td>52:11</td>\n",
       "    </tr>\n",
       "  </tbody>\n",
       "</table>"
      ],
      "text/plain": [
       "<IPython.core.display.HTML object>"
      ]
     },
     "metadata": {
      "tags": []
     },
     "output_type": "display_data"
    }
   ],
   "source": [
    "learn.fit_one_cycle(1, 1e-2)\n",
    "learn.save('news_char_3less_3'); # if you access this file after long time you have to load this file first"
   ]
  },
  {
   "cell_type": "code",
   "execution_count": null,
   "metadata": {
    "colab": {
     "base_uri": "https://localhost:8080/",
     "height": 114
    },
    "executionInfo": {
     "elapsed": 926997,
     "status": "ok",
     "timestamp": 1602786840446,
     "user": {
      "displayName": "ibrahim al azhar",
      "photoUrl": "https://lh3.googleusercontent.com/a-/AOh14GhcTQUbimVsO7p7wRuyYZSNKei7erJoiKLzcwQ3eoY=s64",
      "userId": "00085534427974934913"
     },
     "user_tz": -360
    },
    "id": "yQVou6tE14tB",
    "outputId": "b44839b9-72b4-49f3-ef66-95ab5bd08aaf"
   },
   "outputs": [
    {
     "name": "stderr",
     "output_type": "stream",
     "text": [
      "/usr/local/lib/python3.6/dist-packages/fastai/basic_train.py:327: UserWarning: Wasn't able to properly load the optimizer state again.\n",
      "  except: warn(\"Wasn't able to properly load the optimizer state again.\")\n"
     ]
    },
    {
     "data": {
      "text/html": [
       "<table border=\"1\" class=\"dataframe\">\n",
       "  <thead>\n",
       "    <tr style=\"text-align: left;\">\n",
       "      <th>epoch</th>\n",
       "      <th>train_loss</th>\n",
       "      <th>valid_loss</th>\n",
       "      <th>accuracy</th>\n",
       "      <th>time</th>\n",
       "    </tr>\n",
       "  </thead>\n",
       "  <tbody>\n",
       "    <tr>\n",
       "      <td>0</td>\n",
       "      <td>7.252499</td>\n",
       "      <td>4.624757</td>\n",
       "      <td>0.114596</td>\n",
       "      <td>1:04:04</td>\n",
       "    </tr>\n",
       "  </tbody>\n",
       "</table>"
      ],
      "text/plain": [
       "<IPython.core.display.HTML object>"
      ]
     },
     "metadata": {
      "tags": []
     },
     "output_type": "display_data"
    }
   ],
   "source": [
    "#learn.load('news_char_3less_3');\n",
    "learn.fit_one_cycle(1, 1e-2)\n",
    "learn.save('news_char_3less_4');"
   ]
  },
  {
   "cell_type": "code",
   "execution_count": null,
   "metadata": {
    "colab": {
     "base_uri": "https://localhost:8080/",
     "height": 80
    },
    "executionInfo": {
     "elapsed": 3205797,
     "status": "ok",
     "timestamp": 1602706251499,
     "user": {
      "displayName": "ibrahim al azhar",
      "photoUrl": "https://lh3.googleusercontent.com/a-/AOh14GhcTQUbimVsO7p7wRuyYZSNKei7erJoiKLzcwQ3eoY=s64",
      "userId": "00085534427974934913"
     },
     "user_tz": -360
    },
    "id": "xdVcMJJQHjrd",
    "outputId": "03109546-a059-4802-a774-a01d442ff660"
   },
   "outputs": [
    {
     "data": {
      "text/html": [
       "<table border=\"1\" class=\"dataframe\">\n",
       "  <thead>\n",
       "    <tr style=\"text-align: left;\">\n",
       "      <th>epoch</th>\n",
       "      <th>train_loss</th>\n",
       "      <th>valid_loss</th>\n",
       "      <th>accuracy</th>\n",
       "      <th>time</th>\n",
       "    </tr>\n",
       "  </thead>\n",
       "  <tbody>\n",
       "    <tr>\n",
       "      <td>0</td>\n",
       "      <td>nan</td>\n",
       "      <td>nan</td>\n",
       "      <td>0.020308</td>\n",
       "      <td>53:21</td>\n",
       "    </tr>\n",
       "  </tbody>\n",
       "</table>"
      ],
      "text/plain": [
       "<IPython.core.display.HTML object>"
      ]
     },
     "metadata": {
      "tags": []
     },
     "output_type": "display_data"
    }
   ],
   "source": [
    "learn.fit_one_cycle(1, 1e-2)\n",
    "learn.save('news_char_3less_5'); # don't need to use this file,you use 'news_char_3less_4' file"
   ]
  },
  {
   "cell_type": "markdown",
   "metadata": {
    "id": "Mn1eDZ18xvU7"
   },
   "source": [
    "Training on the rest of the data\n"
   ]
  },
  {
   "cell_type": "code",
   "execution_count": null,
   "metadata": {
    "colab": {
     "base_uri": "https://localhost:8080/",
     "height": 34
    },
    "executionInfo": {
     "elapsed": 17354,
     "status": "ok",
     "timestamp": 1602721847830,
     "user": {
      "displayName": "ibrahim al azhar",
      "photoUrl": "https://lh3.googleusercontent.com/a-/AOh14GhcTQUbimVsO7p7wRuyYZSNKei7erJoiKLzcwQ3eoY=s64",
      "userId": "00085534427974934913"
     },
     "user_tz": -360
    },
    "id": "gy8gA4ogx0xw",
    "outputId": "eecd0f69-e88f-4224-84a4-57d835e9ee81"
   },
   "outputs": [
    {
     "data": {
      "text/plain": [
       "12"
      ]
     },
     "execution_count": 74,
     "metadata": {
      "tags": []
     },
     "output_type": "execute_result"
    }
   ],
   "source": [
    "\n",
    "a = pd.read_csv(news/'full_doc_train.csv')\n",
    "b = pd.read_csv(news/'full_doc_test.csv')\n",
    "df3 = pd.concat([a,b])\n",
    "len(df3['label'].unique()) # length of the unique label of the dataset"
   ]
  },
  {
   "cell_type": "code",
   "execution_count": null,
   "metadata": {
    "colab": {
     "base_uri": "https://localhost:8080/",
     "height": 51
    },
    "executionInfo": {
     "elapsed": 1367,
     "status": "ok",
     "timestamp": 1602721860258,
     "user": {
      "displayName": "ibrahim al azhar",
      "photoUrl": "https://lh3.googleusercontent.com/a-/AOh14GhcTQUbimVsO7p7wRuyYZSNKei7erJoiKLzcwQ3eoY=s64",
      "userId": "00085534427974934913"
     },
     "user_tz": -360
    },
    "id": "0Hah2pSsx4j6",
    "outputId": "96d92112-e15f-4cf7-90ad-343f2b93fde4"
   },
   "outputs": [
    {
     "name": "stdout",
     "output_type": "stream",
     "text": [
      "95855\n",
      "44165\n"
     ]
    }
   ],
   "source": [
    "print(len(df3))\n",
    "df3 = df3[(df3['label']=='politics') | (df3['label']=='sports') | (df3['label']=='education')] # previously we erase these 3 labels of text,now we take these 3 labels of text\n",
    "print(len(df3))"
   ]
  },
  {
   "cell_type": "code",
   "execution_count": null,
   "metadata": {
    "id": "_GaW7tc-ypcx"
   },
   "outputs": [],
   "source": [
    "df3.to_csv(news/'news_3.csv',index=False) # export the datafrme (labels are 'politics','sports','education') into a csv file "
   ]
  },
  {
   "cell_type": "code",
   "execution_count": null,
   "metadata": {
    "colab": {
     "base_uri": "https://localhost:8080/",
     "height": 34
    },
    "executionInfo": {
     "elapsed": 3126,
     "status": "ok",
     "timestamp": 1602721895090,
     "user": {
      "displayName": "ibrahim al azhar",
      "photoUrl": "https://lh3.googleusercontent.com/a-/AOh14GhcTQUbimVsO7p7wRuyYZSNKei7erJoiKLzcwQ3eoY=s64",
      "userId": "00085534427974934913"
     },
     "user_tz": -360
    },
    "id": "5CPYAKELy36K",
    "outputId": "f324a639-bb4a-41ef-9e52-b7cac39daab9"
   },
   "outputs": [
    {
     "data": {
      "text/plain": [
       "3"
      ]
     },
     "execution_count": 77,
     "metadata": {
      "tags": []
     },
     "output_type": "execute_result"
    }
   ],
   "source": [
    "df3 = pd.read_csv(news/'news_3.csv') # read the 'news_3' csv file using pandas \n",
    "len(df3['label'].unique()) # print the unique label(which is 'politics','sports','education')"
   ]
  },
  {
   "cell_type": "code",
   "execution_count": null,
   "metadata": {
    "colab": {
     "base_uri": "https://localhost:8080/",
     "height": 204
    },
    "executionInfo": {
     "elapsed": 1870,
     "status": "ok",
     "timestamp": 1602721900437,
     "user": {
      "displayName": "ibrahim al azhar",
      "photoUrl": "https://lh3.googleusercontent.com/a-/AOh14GhcTQUbimVsO7p7wRuyYZSNKei7erJoiKLzcwQ3eoY=s64",
      "userId": "00085534427974934913"
     },
     "user_tz": -360
    },
    "id": "gfrt-AG5zEOQ",
    "outputId": "c407fa20-7aa2-42d5-bb3b-28a38cf0bb5e"
   },
   "outputs": [
    {
     "data": {
      "text/html": [
       "<div>\n",
       "<style scoped>\n",
       "    .dataframe tbody tr th:only-of-type {\n",
       "        vertical-align: middle;\n",
       "    }\n",
       "\n",
       "    .dataframe tbody tr th {\n",
       "        vertical-align: top;\n",
       "    }\n",
       "\n",
       "    .dataframe thead th {\n",
       "        text-align: right;\n",
       "    }\n",
       "</style>\n",
       "<table border=\"1\" class=\"dataframe\">\n",
       "  <thead>\n",
       "    <tr style=\"text-align: right;\">\n",
       "      <th></th>\n",
       "      <th>label</th>\n",
       "      <th>text</th>\n",
       "      <th>is_valid</th>\n",
       "    </tr>\n",
       "  </thead>\n",
       "  <tbody>\n",
       "    <tr>\n",
       "      <th>0</th>\n",
       "      <td>politics</td>\n",
       "      <td>আদালতে ‘অতি উৎসাহীদের’ রিট আবেদনের কারণে নারায়...</td>\n",
       "      <td>False</td>\n",
       "    </tr>\n",
       "    <tr>\n",
       "      <th>1</th>\n",
       "      <td>politics</td>\n",
       "      <td>চলমান হরতাল শুক্রবার সকাল ছয়টা পর্যন্ত বাড়ান...</td>\n",
       "      <td>False</td>\n",
       "    </tr>\n",
       "    <tr>\n",
       "      <th>2</th>\n",
       "      <td>politics</td>\n",
       "      <td>ঢাকা, জুন ০৮ (বিডিনিউজ টোয়েন্টিফোর ডটকম)- রাজন...</td>\n",
       "      <td>False</td>\n",
       "    </tr>\n",
       "    <tr>\n",
       "      <th>3</th>\n",
       "      <td>politics</td>\n",
       "      <td>ঢাকা, সেপ্টেম্বর ২৫ (বিডিনিউজ টুয়েন্টিফোর ডটকম...</td>\n",
       "      <td>False</td>\n",
       "    </tr>\n",
       "    <tr>\n",
       "      <th>4</th>\n",
       "      <td>politics</td>\n",
       "      <td>একাত্তরে গণহত্যার দায়ে দলের স্থায়ী কমিটির সদস্...</td>\n",
       "      <td>False</td>\n",
       "    </tr>\n",
       "  </tbody>\n",
       "</table>\n",
       "</div>"
      ],
      "text/plain": [
       "      label                                               text  is_valid\n",
       "0  politics  আদালতে ‘অতি উৎসাহীদের’ রিট আবেদনের কারণে নারায়...     False\n",
       "1  politics  চলমান হরতাল শুক্রবার সকাল ছয়টা পর্যন্ত বাড়ান...     False\n",
       "2  politics  ঢাকা, জুন ০৮ (বিডিনিউজ টোয়েন্টিফোর ডটকম)- রাজন...     False\n",
       "3  politics  ঢাকা, সেপ্টেম্বর ২৫ (বিডিনিউজ টুয়েন্টিফোর ডটকম...     False\n",
       "4  politics  একাত্তরে গণহত্যার দায়ে দলের স্থায়ী কমিটির সদস্...     False"
      ]
     },
     "execution_count": 78,
     "metadata": {
      "tags": []
     },
     "output_type": "execute_result"
    }
   ],
   "source": [
    "df3.head()"
   ]
  },
  {
   "cell_type": "code",
   "execution_count": null,
   "metadata": {
    "colab": {
     "base_uri": "https://localhost:8080/",
     "height": 17
    },
    "executionInfo": {
     "elapsed": 81493,
     "status": "ok",
     "timestamp": 1602722752879,
     "user": {
      "displayName": "ibrahim al azhar",
      "photoUrl": "https://lh3.googleusercontent.com/a-/AOh14GhcTQUbimVsO7p7wRuyYZSNKei7erJoiKLzcwQ3eoY=s64",
      "userId": "00085534427974934913"
     },
     "user_tz": -360
    },
    "id": "Yf8kEg3O0eFL",
    "outputId": "14c1a46a-2acb-4d3e-b312-9813d68dd989"
   },
   "outputs": [
    {
     "data": {
      "text/html": [],
      "text/plain": [
       "<IPython.core.display.HTML object>"
      ]
     },
     "metadata": {
      "tags": []
     },
     "output_type": "display_data"
    },
    {
     "data": {
      "text/html": [],
      "text/plain": [
       "<IPython.core.display.HTML object>"
      ]
     },
     "metadata": {
      "tags": []
     },
     "output_type": "display_data"
    }
   ],
   "source": [
    "data_lm = TextLMDataBunch.from_csv(news , 'news_3.csv', bs=bs , bptt=bptt,tokenizer=tokenizer, vocab=vocab) # applying data bunch where using batch size,tokenizer and voacabulary \n",
    "data_lm.save('news_char_3.pkl')"
   ]
  },
  {
   "cell_type": "code",
   "execution_count": null,
   "metadata": {
    "id": "RUU4Z_o11HCG"
   },
   "outputs": [],
   "source": [
    "data_lm=load_data(news,'news_char_3.pkl',bs=bs)"
   ]
  },
  {
   "cell_type": "code",
   "execution_count": null,
   "metadata": {
    "id": "ekSuYqMJ1HJY"
   },
   "outputs": [],
   "source": [
    "learn = language_model_learner(data_lm, AWD_LSTM, pretrained=False, drop_mult=0.5) # this is the first stage of training,where we use the pretrained language model weights,first param is our language model data,right now here don't use pretrained,drop_mult is set the amount of dropout"
   ]
  },
  {
   "cell_type": "code",
   "execution_count": null,
   "metadata": {
    "colab": {
     "base_uri": "https://localhost:8080/",
     "height": 374
    },
    "executionInfo": {
     "elapsed": 17247,
     "status": "ok",
     "timestamp": 1602722819616,
     "user": {
      "displayName": "ibrahim al azhar",
      "photoUrl": "https://lh3.googleusercontent.com/a-/AOh14GhcTQUbimVsO7p7wRuyYZSNKei7erJoiKLzcwQ3eoY=s64",
      "userId": "00085534427974934913"
     },
     "user_tz": -360
    },
    "id": "ixbfSHZJr1aW",
    "outputId": "84cb0c7c-5064-4fdb-f73e-82a569eeab08"
   },
   "outputs": [
    {
     "data": {
      "text/html": [
       "\n",
       "    <div>\n",
       "        <style>\n",
       "            /* Turns off some styling */\n",
       "            progress {\n",
       "                /* gets rid of default border in Firefox and Opera. */\n",
       "                border: none;\n",
       "                /* Needs to be in here for Safari polyfill so background images work as expected. */\n",
       "                background-size: auto;\n",
       "            }\n",
       "            .progress-bar-interrupted, .progress-bar-interrupted::-webkit-progress-bar {\n",
       "                background: #F44336;\n",
       "            }\n",
       "        </style>\n",
       "      <progress value='0' class='' max='1' style='width:300px; height:20px; vertical-align: middle;'></progress>\n",
       "      0.00% [0/1 00:00<00:00]\n",
       "    </div>\n",
       "    \n",
       "<table border=\"1\" class=\"dataframe\">\n",
       "  <thead>\n",
       "    <tr style=\"text-align: left;\">\n",
       "      <th>epoch</th>\n",
       "      <th>train_loss</th>\n",
       "      <th>valid_loss</th>\n",
       "      <th>accuracy</th>\n",
       "      <th>time</th>\n",
       "    </tr>\n",
       "  </thead>\n",
       "  <tbody>\n",
       "  </tbody>\n",
       "</table><p>\n",
       "\n",
       "    <div>\n",
       "        <style>\n",
       "            /* Turns off some styling */\n",
       "            progress {\n",
       "                /* gets rid of default border in Firefox and Opera. */\n",
       "                border: none;\n",
       "                /* Needs to be in here for Safari polyfill so background images work as expected. */\n",
       "                background-size: auto;\n",
       "            }\n",
       "            .progress-bar-interrupted, .progress-bar-interrupted::-webkit-progress-bar {\n",
       "                background: #F44336;\n",
       "            }\n",
       "        </style>\n",
       "      <progress value='97' class='' max='31156' style='width:300px; height:20px; vertical-align: middle;'></progress>\n",
       "      0.31% [97/31156 00:07<42:35 7.9778]\n",
       "    </div>\n",
       "    "
      ],
      "text/plain": [
       "<IPython.core.display.HTML object>"
      ]
     },
     "metadata": {
      "tags": []
     },
     "output_type": "display_data"
    },
    {
     "name": "stdout",
     "output_type": "stream",
     "text": [
      "LR Finder is complete, type {learner_name}.recorder.plot() to see the graph.\n"
     ]
    },
    {
     "data": {
      "image/png": "[encoded data removed]",
      "text/plain": [
       "<Figure size 432x288 with 1 Axes>"
      ]
     },
     "metadata": {
      "needs_background": "light",
      "tags": []
     },
     "output_type": "display_data"
    }
   ],
   "source": [
    "learn.load('news_char_3less_3');\n",
    "learn.lr_find() # find the learning rate then recorder the plot\n",
    "learn.recorder.plot()"
   ]
  },
  {
   "cell_type": "code",
   "execution_count": null,
   "metadata": {
    "colab": {
     "base_uri": "https://localhost:8080/",
     "height": 279
    },
    "executionInfo": {
     "elapsed": 1476,
     "status": "ok",
     "timestamp": 1602722828659,
     "user": {
      "displayName": "ibrahim al azhar",
      "photoUrl": "https://lh3.googleusercontent.com/a-/AOh14GhcTQUbimVsO7p7wRuyYZSNKei7erJoiKLzcwQ3eoY=s64",
      "userId": "00085534427974934913"
     },
     "user_tz": -360
    },
    "id": "Yt_nq9Vm1HQG",
    "outputId": "2229fe15-8506-4cac-efc8-bffd90b8c660"
   },
   "outputs": [
    {
     "data": {
      "image/png": "[encoded data removed]",
      "text/plain": [
       "<Figure size 432x288 with 1 Axes>"
      ]
     },
     "metadata": {
      "needs_background": "light",
      "tags": []
     },
     "output_type": "display_data"
    }
   ],
   "source": [
    "learn.recorder.plot(skip_end=30)"
   ]
  },
  {
   "cell_type": "code",
   "execution_count": null,
   "metadata": {
    "colab": {
     "base_uri": "https://localhost:8080/",
     "height": 401
    },
    "executionInfo": {
     "elapsed": 9637,
     "status": "error",
     "timestamp": 1602722855102,
     "user": {
      "displayName": "ibrahim al azhar",
      "photoUrl": "https://lh3.googleusercontent.com/a-/AOh14GhcTQUbimVsO7p7wRuyYZSNKei7erJoiKLzcwQ3eoY=s64",
      "userId": "00085534427974934913"
     },
     "user_tz": -360
    },
    "id": "rbqd2rTn1uip",
    "outputId": "9318b3d8-2b15-47a9-f811-98a6e3191d5e"
   },
   "outputs": [
    {
     "data": {
      "text/html": [
       "\n",
       "    <div>\n",
       "        <style>\n",
       "            /* Turns off some styling */\n",
       "            progress {\n",
       "                /* gets rid of default border in Firefox and Opera. */\n",
       "                border: none;\n",
       "                /* Needs to be in here for Safari polyfill so background images work as expected. */\n",
       "                background-size: auto;\n",
       "            }\n",
       "            .progress-bar-interrupted, .progress-bar-interrupted::-webkit-progress-bar {\n",
       "                background: #F44336;\n",
       "            }\n",
       "        </style>\n",
       "      <progress value='0' class='' max='1' style='width:300px; height:20px; vertical-align: middle;'></progress>\n",
       "      0.00% [0/1 00:00<00:00]\n",
       "    </div>\n",
       "    \n",
       "<table border=\"1\" class=\"dataframe\">\n",
       "  <thead>\n",
       "    <tr style=\"text-align: left;\">\n",
       "      <th>epoch</th>\n",
       "      <th>train_loss</th>\n",
       "      <th>valid_loss</th>\n",
       "      <th>accuracy</th>\n",
       "      <th>time</th>\n",
       "    </tr>\n",
       "  </thead>\n",
       "  <tbody>\n",
       "  </tbody>\n",
       "</table><p>\n",
       "\n",
       "    <div>\n",
       "        <style>\n",
       "            /* Turns off some styling */\n",
       "            progress {\n",
       "                /* gets rid of default border in Firefox and Opera. */\n",
       "                border: none;\n",
       "                /* Needs to be in here for Safari polyfill so background images work as expected. */\n",
       "                background-size: auto;\n",
       "            }\n",
       "            .progress-bar-interrupted, .progress-bar-interrupted::-webkit-progress-bar {\n",
       "                background: #F44336;\n",
       "            }\n",
       "        </style>\n",
       "      <progress value='103' class='' max='31156' style='width:300px; height:20px; vertical-align: middle;'></progress>\n",
       "      0.33% [103/31156 00:08<42:55 nan]\n",
       "    </div>\n",
       "    "
      ],
      "text/plain": [
       "<IPython.core.display.HTML object>"
      ]
     },
     "metadata": {
      "tags": []
     },
     "output_type": "display_data"
    },
    {
     "ename": "KeyboardInterrupt",
     "evalue": "ignored",
     "output_type": "error",
     "traceback": [
      "\u001b[0;31m---------------------------------------------------------------------------\u001b[0m",
      "\u001b[0;31mKeyboardInterrupt\u001b[0m                         Traceback (most recent call last)",
      "\u001b[0;32m<ipython-input-94-c44de1cba62b>\u001b[0m in \u001b[0;36m<module>\u001b[0;34m()\u001b[0m\n\u001b[0;32m----> 1\u001b[0;31m \u001b[0mlearn\u001b[0m\u001b[0;34m.\u001b[0m\u001b[0mfit_one_cycle\u001b[0m\u001b[0;34m(\u001b[0m\u001b[0;36m1\u001b[0m\u001b[0;34m,\u001b[0m \u001b[0;36m1e-6\u001b[0m\u001b[0;34m)\u001b[0m\u001b[0;34m\u001b[0m\u001b[0;34m\u001b[0m\u001b[0m\n\u001b[0m\u001b[1;32m      2\u001b[0m \u001b[0mlearn\u001b[0m\u001b[0;34m.\u001b[0m\u001b[0msave\u001b[0m\u001b[0;34m(\u001b[0m\u001b[0;34m'news_char_3_6'\u001b[0m\u001b[0;34m)\u001b[0m\u001b[0;34m;\u001b[0m\u001b[0;34m\u001b[0m\u001b[0;34m\u001b[0m\u001b[0m\n",
      "\u001b[0;32m/usr/local/lib/python3.6/dist-packages/fastai/train.py\u001b[0m in \u001b[0;36mfit_one_cycle\u001b[0;34m(learn, cyc_len, max_lr, moms, div_factor, pct_start, final_div, wd, callbacks, tot_epochs, start_epoch)\u001b[0m\n\u001b[1;32m     20\u001b[0m     callbacks.append(OneCycleScheduler(learn, max_lr, moms=moms, div_factor=div_factor, pct_start=pct_start,\n\u001b[1;32m     21\u001b[0m                                        final_div=final_div, tot_epochs=tot_epochs, start_epoch=start_epoch))\n\u001b[0;32m---> 22\u001b[0;31m     \u001b[0mlearn\u001b[0m\u001b[0;34m.\u001b[0m\u001b[0mfit\u001b[0m\u001b[0;34m(\u001b[0m\u001b[0mcyc_len\u001b[0m\u001b[0;34m,\u001b[0m \u001b[0mmax_lr\u001b[0m\u001b[0;34m,\u001b[0m \u001b[0mwd\u001b[0m\u001b[0;34m=\u001b[0m\u001b[0mwd\u001b[0m\u001b[0;34m,\u001b[0m \u001b[0mcallbacks\u001b[0m\u001b[0;34m=\u001b[0m\u001b[0mcallbacks\u001b[0m\u001b[0;34m)\u001b[0m\u001b[0;34m\u001b[0m\u001b[0;34m\u001b[0m\u001b[0m\n\u001b[0m\u001b[1;32m     23\u001b[0m \u001b[0;34m\u001b[0m\u001b[0m\n\u001b[1;32m     24\u001b[0m \u001b[0;32mdef\u001b[0m \u001b[0mlr_find\u001b[0m\u001b[0;34m(\u001b[0m\u001b[0mlearn\u001b[0m\u001b[0;34m:\u001b[0m\u001b[0mLearner\u001b[0m\u001b[0;34m,\u001b[0m \u001b[0mstart_lr\u001b[0m\u001b[0;34m:\u001b[0m\u001b[0mFloats\u001b[0m\u001b[0;34m=\u001b[0m\u001b[0;36m1e-7\u001b[0m\u001b[0;34m,\u001b[0m \u001b[0mend_lr\u001b[0m\u001b[0;34m:\u001b[0m\u001b[0mFloats\u001b[0m\u001b[0;34m=\u001b[0m\u001b[0;36m10\u001b[0m\u001b[0;34m,\u001b[0m \u001b[0mnum_it\u001b[0m\u001b[0;34m:\u001b[0m\u001b[0mint\u001b[0m\u001b[0;34m=\u001b[0m\u001b[0;36m100\u001b[0m\u001b[0;34m,\u001b[0m \u001b[0mstop_div\u001b[0m\u001b[0;34m:\u001b[0m\u001b[0mbool\u001b[0m\u001b[0;34m=\u001b[0m\u001b[0;32mTrue\u001b[0m\u001b[0;34m,\u001b[0m \u001b[0mwd\u001b[0m\u001b[0;34m:\u001b[0m\u001b[0mfloat\u001b[0m\u001b[0;34m=\u001b[0m\u001b[0;32mNone\u001b[0m\u001b[0;34m)\u001b[0m\u001b[0;34m:\u001b[0m\u001b[0;34m\u001b[0m\u001b[0;34m\u001b[0m\u001b[0m\n",
      "\u001b[0;32m/usr/local/lib/python3.6/dist-packages/fastai/basic_train.py\u001b[0m in \u001b[0;36mfit\u001b[0;34m(self, epochs, lr, wd, callbacks)\u001b[0m\n\u001b[1;32m    197\u001b[0m         \u001b[0mcallbacks\u001b[0m \u001b[0;34m=\u001b[0m \u001b[0;34m[\u001b[0m\u001b[0mcb\u001b[0m\u001b[0;34m(\u001b[0m\u001b[0mself\u001b[0m\u001b[0;34m)\u001b[0m \u001b[0;32mfor\u001b[0m \u001b[0mcb\u001b[0m \u001b[0;32min\u001b[0m \u001b[0mself\u001b[0m\u001b[0;34m.\u001b[0m\u001b[0mcallback_fns\u001b[0m \u001b[0;34m+\u001b[0m \u001b[0mlistify\u001b[0m\u001b[0;34m(\u001b[0m\u001b[0mdefaults\u001b[0m\u001b[0;34m.\u001b[0m\u001b[0mextra_callback_fns\u001b[0m\u001b[0;34m)\u001b[0m\u001b[0;34m]\u001b[0m \u001b[0;34m+\u001b[0m \u001b[0mlistify\u001b[0m\u001b[0;34m(\u001b[0m\u001b[0mcallbacks\u001b[0m\u001b[0;34m)\u001b[0m\u001b[0;34m\u001b[0m\u001b[0;34m\u001b[0m\u001b[0m\n\u001b[1;32m    198\u001b[0m         \u001b[0;32mif\u001b[0m \u001b[0mdefaults\u001b[0m\u001b[0;34m.\u001b[0m\u001b[0mextra_callbacks\u001b[0m \u001b[0;32mis\u001b[0m \u001b[0;32mnot\u001b[0m \u001b[0;32mNone\u001b[0m\u001b[0;34m:\u001b[0m \u001b[0mcallbacks\u001b[0m \u001b[0;34m+=\u001b[0m \u001b[0mdefaults\u001b[0m\u001b[0;34m.\u001b[0m\u001b[0mextra_callbacks\u001b[0m\u001b[0;34m\u001b[0m\u001b[0;34m\u001b[0m\u001b[0m\n\u001b[0;32m--> 199\u001b[0;31m         \u001b[0mfit\u001b[0m\u001b[0;34m(\u001b[0m\u001b[0mepochs\u001b[0m\u001b[0;34m,\u001b[0m \u001b[0mself\u001b[0m\u001b[0;34m,\u001b[0m \u001b[0mmetrics\u001b[0m\u001b[0;34m=\u001b[0m\u001b[0mself\u001b[0m\u001b[0;34m.\u001b[0m\u001b[0mmetrics\u001b[0m\u001b[0;34m,\u001b[0m \u001b[0mcallbacks\u001b[0m\u001b[0;34m=\u001b[0m\u001b[0mself\u001b[0m\u001b[0;34m.\u001b[0m\u001b[0mcallbacks\u001b[0m\u001b[0;34m+\u001b[0m\u001b[0mcallbacks\u001b[0m\u001b[0;34m)\u001b[0m\u001b[0;34m\u001b[0m\u001b[0;34m\u001b[0m\u001b[0m\n\u001b[0m\u001b[1;32m    200\u001b[0m \u001b[0;34m\u001b[0m\u001b[0m\n\u001b[1;32m    201\u001b[0m     \u001b[0;32mdef\u001b[0m \u001b[0mcreate_opt\u001b[0m\u001b[0;34m(\u001b[0m\u001b[0mself\u001b[0m\u001b[0;34m,\u001b[0m \u001b[0mlr\u001b[0m\u001b[0;34m:\u001b[0m\u001b[0mFloats\u001b[0m\u001b[0;34m,\u001b[0m \u001b[0mwd\u001b[0m\u001b[0;34m:\u001b[0m\u001b[0mFloats\u001b[0m\u001b[0;34m=\u001b[0m\u001b[0;36m0.\u001b[0m\u001b[0;34m)\u001b[0m\u001b[0;34m->\u001b[0m\u001b[0;32mNone\u001b[0m\u001b[0;34m:\u001b[0m\u001b[0;34m\u001b[0m\u001b[0;34m\u001b[0m\u001b[0m\n",
      "\u001b[0;32m/usr/local/lib/python3.6/dist-packages/fastai/basic_train.py\u001b[0m in \u001b[0;36mfit\u001b[0;34m(epochs, learn, callbacks, metrics)\u001b[0m\n\u001b[1;32m     99\u001b[0m             \u001b[0;32mfor\u001b[0m \u001b[0mxb\u001b[0m\u001b[0;34m,\u001b[0m\u001b[0myb\u001b[0m \u001b[0;32min\u001b[0m \u001b[0mprogress_bar\u001b[0m\u001b[0;34m(\u001b[0m\u001b[0mlearn\u001b[0m\u001b[0;34m.\u001b[0m\u001b[0mdata\u001b[0m\u001b[0;34m.\u001b[0m\u001b[0mtrain_dl\u001b[0m\u001b[0;34m,\u001b[0m \u001b[0mparent\u001b[0m\u001b[0;34m=\u001b[0m\u001b[0mpbar\u001b[0m\u001b[0;34m)\u001b[0m\u001b[0;34m:\u001b[0m\u001b[0;34m\u001b[0m\u001b[0;34m\u001b[0m\u001b[0m\n\u001b[1;32m    100\u001b[0m                 \u001b[0mxb\u001b[0m\u001b[0;34m,\u001b[0m \u001b[0myb\u001b[0m \u001b[0;34m=\u001b[0m \u001b[0mcb_handler\u001b[0m\u001b[0;34m.\u001b[0m\u001b[0mon_batch_begin\u001b[0m\u001b[0;34m(\u001b[0m\u001b[0mxb\u001b[0m\u001b[0;34m,\u001b[0m \u001b[0myb\u001b[0m\u001b[0;34m)\u001b[0m\u001b[0;34m\u001b[0m\u001b[0;34m\u001b[0m\u001b[0m\n\u001b[0;32m--> 101\u001b[0;31m                 \u001b[0mloss\u001b[0m \u001b[0;34m=\u001b[0m \u001b[0mloss_batch\u001b[0m\u001b[0;34m(\u001b[0m\u001b[0mlearn\u001b[0m\u001b[0;34m.\u001b[0m\u001b[0mmodel\u001b[0m\u001b[0;34m,\u001b[0m \u001b[0mxb\u001b[0m\u001b[0;34m,\u001b[0m \u001b[0myb\u001b[0m\u001b[0;34m,\u001b[0m \u001b[0mlearn\u001b[0m\u001b[0;34m.\u001b[0m\u001b[0mloss_func\u001b[0m\u001b[0;34m,\u001b[0m \u001b[0mlearn\u001b[0m\u001b[0;34m.\u001b[0m\u001b[0mopt\u001b[0m\u001b[0;34m,\u001b[0m \u001b[0mcb_handler\u001b[0m\u001b[0;34m)\u001b[0m\u001b[0;34m\u001b[0m\u001b[0;34m\u001b[0m\u001b[0m\n\u001b[0m\u001b[1;32m    102\u001b[0m                 \u001b[0;32mif\u001b[0m \u001b[0mcb_handler\u001b[0m\u001b[0;34m.\u001b[0m\u001b[0mon_batch_end\u001b[0m\u001b[0;34m(\u001b[0m\u001b[0mloss\u001b[0m\u001b[0;34m)\u001b[0m\u001b[0;34m:\u001b[0m \u001b[0;32mbreak\u001b[0m\u001b[0;34m\u001b[0m\u001b[0;34m\u001b[0m\u001b[0m\n\u001b[1;32m    103\u001b[0m \u001b[0;34m\u001b[0m\u001b[0m\n",
      "\u001b[0;32m/usr/local/lib/python3.6/dist-packages/fastai/basic_train.py\u001b[0m in \u001b[0;36mloss_batch\u001b[0;34m(model, xb, yb, loss_func, opt, cb_handler)\u001b[0m\n\u001b[1;32m     32\u001b[0m     \u001b[0;32mif\u001b[0m \u001b[0mopt\u001b[0m \u001b[0;32mis\u001b[0m \u001b[0;32mnot\u001b[0m \u001b[0;32mNone\u001b[0m\u001b[0;34m:\u001b[0m\u001b[0;34m\u001b[0m\u001b[0;34m\u001b[0m\u001b[0m\n\u001b[1;32m     33\u001b[0m         \u001b[0mloss\u001b[0m\u001b[0;34m,\u001b[0m\u001b[0mskip_bwd\u001b[0m \u001b[0;34m=\u001b[0m \u001b[0mcb_handler\u001b[0m\u001b[0;34m.\u001b[0m\u001b[0mon_backward_begin\u001b[0m\u001b[0;34m(\u001b[0m\u001b[0mloss\u001b[0m\u001b[0;34m)\u001b[0m\u001b[0;34m\u001b[0m\u001b[0;34m\u001b[0m\u001b[0m\n\u001b[0;32m---> 34\u001b[0;31m         \u001b[0;32mif\u001b[0m \u001b[0;32mnot\u001b[0m \u001b[0mskip_bwd\u001b[0m\u001b[0;34m:\u001b[0m                     \u001b[0mloss\u001b[0m\u001b[0;34m.\u001b[0m\u001b[0mbackward\u001b[0m\u001b[0;34m(\u001b[0m\u001b[0;34m)\u001b[0m\u001b[0;34m\u001b[0m\u001b[0;34m\u001b[0m\u001b[0m\n\u001b[0m\u001b[1;32m     35\u001b[0m         \u001b[0;32mif\u001b[0m \u001b[0;32mnot\u001b[0m \u001b[0mcb_handler\u001b[0m\u001b[0;34m.\u001b[0m\u001b[0mon_backward_end\u001b[0m\u001b[0;34m(\u001b[0m\u001b[0;34m)\u001b[0m\u001b[0;34m:\u001b[0m \u001b[0mopt\u001b[0m\u001b[0;34m.\u001b[0m\u001b[0mstep\u001b[0m\u001b[0;34m(\u001b[0m\u001b[0;34m)\u001b[0m\u001b[0;34m\u001b[0m\u001b[0;34m\u001b[0m\u001b[0m\n\u001b[1;32m     36\u001b[0m         \u001b[0;32mif\u001b[0m \u001b[0;32mnot\u001b[0m \u001b[0mcb_handler\u001b[0m\u001b[0;34m.\u001b[0m\u001b[0mon_step_end\u001b[0m\u001b[0;34m(\u001b[0m\u001b[0;34m)\u001b[0m\u001b[0;34m:\u001b[0m     \u001b[0mopt\u001b[0m\u001b[0;34m.\u001b[0m\u001b[0mzero_grad\u001b[0m\u001b[0;34m(\u001b[0m\u001b[0;34m)\u001b[0m\u001b[0;34m\u001b[0m\u001b[0;34m\u001b[0m\u001b[0m\n",
      "\u001b[0;32m/usr/local/lib/python3.6/dist-packages/torch/tensor.py\u001b[0m in \u001b[0;36mbackward\u001b[0;34m(self, gradient, retain_graph, create_graph)\u001b[0m\n\u001b[1;32m    183\u001b[0m                 \u001b[0mproducts\u001b[0m\u001b[0;34m.\u001b[0m \u001b[0mDefaults\u001b[0m \u001b[0mto\u001b[0m\u001b[0;31m \u001b[0m\u001b[0;31m`\u001b[0m\u001b[0;31m`\u001b[0m\u001b[0;32mFalse\u001b[0m\u001b[0;31m`\u001b[0m\u001b[0;31m`\u001b[0m\u001b[0;34m.\u001b[0m\u001b[0;34m\u001b[0m\u001b[0;34m\u001b[0m\u001b[0m\n\u001b[1;32m    184\u001b[0m         \"\"\"\n\u001b[0;32m--> 185\u001b[0;31m         \u001b[0mtorch\u001b[0m\u001b[0;34m.\u001b[0m\u001b[0mautograd\u001b[0m\u001b[0;34m.\u001b[0m\u001b[0mbackward\u001b[0m\u001b[0;34m(\u001b[0m\u001b[0mself\u001b[0m\u001b[0;34m,\u001b[0m \u001b[0mgradient\u001b[0m\u001b[0;34m,\u001b[0m \u001b[0mretain_graph\u001b[0m\u001b[0;34m,\u001b[0m \u001b[0mcreate_graph\u001b[0m\u001b[0;34m)\u001b[0m\u001b[0;34m\u001b[0m\u001b[0;34m\u001b[0m\u001b[0m\n\u001b[0m\u001b[1;32m    186\u001b[0m \u001b[0;34m\u001b[0m\u001b[0m\n\u001b[1;32m    187\u001b[0m     \u001b[0;32mdef\u001b[0m \u001b[0mregister_hook\u001b[0m\u001b[0;34m(\u001b[0m\u001b[0mself\u001b[0m\u001b[0;34m,\u001b[0m \u001b[0mhook\u001b[0m\u001b[0;34m)\u001b[0m\u001b[0;34m:\u001b[0m\u001b[0;34m\u001b[0m\u001b[0;34m\u001b[0m\u001b[0m\n",
      "\u001b[0;32m/usr/local/lib/python3.6/dist-packages/torch/autograd/__init__.py\u001b[0m in \u001b[0;36mbackward\u001b[0;34m(tensors, grad_tensors, retain_graph, create_graph, grad_variables)\u001b[0m\n\u001b[1;32m    125\u001b[0m     Variable._execution_engine.run_backward(\n\u001b[1;32m    126\u001b[0m         \u001b[0mtensors\u001b[0m\u001b[0;34m,\u001b[0m \u001b[0mgrad_tensors\u001b[0m\u001b[0;34m,\u001b[0m \u001b[0mretain_graph\u001b[0m\u001b[0;34m,\u001b[0m \u001b[0mcreate_graph\u001b[0m\u001b[0;34m,\u001b[0m\u001b[0;34m\u001b[0m\u001b[0;34m\u001b[0m\u001b[0m\n\u001b[0;32m--> 127\u001b[0;31m         allow_unreachable=True)  # allow_unreachable flag\n\u001b[0m\u001b[1;32m    128\u001b[0m \u001b[0;34m\u001b[0m\u001b[0m\n\u001b[1;32m    129\u001b[0m \u001b[0;34m\u001b[0m\u001b[0m\n",
      "\u001b[0;31mKeyboardInterrupt\u001b[0m: "
     ]
    }
   ],
   "source": [
    "learn.fit_one_cycle(1, 1e-6)\n",
    "learn.save('news_char_3_6');"
   ]
  },
  {
   "cell_type": "code",
   "execution_count": null,
   "metadata": {
    "colab": {
     "base_uri": "https://localhost:8080/",
     "height": 34
    },
    "executionInfo": {
     "elapsed": 2166,
     "status": "ok",
     "timestamp": 1602722491425,
     "user": {
      "displayName": "ibrahim al azhar",
      "photoUrl": "https://lh3.googleusercontent.com/a-/AOh14GhcTQUbimVsO7p7wRuyYZSNKei7erJoiKLzcwQ3eoY=s64",
      "userId": "00085534427974934913"
     },
     "user_tz": -360
    },
    "id": "kjBdxdzJ13gx",
    "outputId": "982b9ff0-7dd0-45a6-9b2d-d92aeda0fd30"
   },
   "outputs": [
    {
     "data": {
      "text/plain": [
       "0.01"
      ]
     },
     "execution_count": 87,
     "metadata": {
      "tags": []
     },
     "output_type": "execute_result"
    }
   ],
   "source": [
    "1e-2"
   ]
  },
  {
   "cell_type": "code",
   "execution_count": null,
   "metadata": {
    "colab": {
     "base_uri": "https://localhost:8080/",
     "height": 34
    },
    "executionInfo": {
     "elapsed": 2743,
     "status": "ok",
     "timestamp": 1602722505051,
     "user": {
      "displayName": "ibrahim al azhar",
      "photoUrl": "https://lh3.googleusercontent.com/a-/AOh14GhcTQUbimVsO7p7wRuyYZSNKei7erJoiKLzcwQ3eoY=s64",
      "userId": "00085534427974934913"
     },
     "user_tz": -360
    },
    "id": "o0AuqVh7tGM2",
    "outputId": "6b52c9c1-670f-4c9a-e80b-26c545da28de"
   },
   "outputs": [
    {
     "data": {
      "text/plain": [
       "1e-07"
      ]
     },
     "execution_count": 88,
     "metadata": {
      "tags": []
     },
     "output_type": "execute_result"
    }
   ],
   "source": [
    "1e-7"
   ]
  },
  {
   "cell_type": "code",
   "execution_count": null,
   "metadata": {
    "colab": {
     "base_uri": "https://localhost:8080/",
     "height": 34
    },
    "executionInfo": {
     "elapsed": 2181,
     "status": "ok",
     "timestamp": 1602782923272,
     "user": {
      "displayName": "ibrahim al azhar",
      "photoUrl": "https://lh3.googleusercontent.com/a-/AOh14GhcTQUbimVsO7p7wRuyYZSNKei7erJoiKLzcwQ3eoY=s64",
      "userId": "00085534427974934913"
     },
     "user_tz": -360
    },
    "id": "2n3Ly3rEtJY2",
    "outputId": "17bdeb67-f280-4b77-d13a-1089d03201a3"
   },
   "outputs": [
    {
     "data": {
      "text/plain": [
       "0.001"
      ]
     },
     "execution_count": 21,
     "metadata": {
      "tags": []
     },
     "output_type": "execute_result"
    }
   ],
   "source": [
    "1e-3"
   ]
  },
  {
   "cell_type": "code",
   "execution_count": null,
   "metadata": {
    "id": "DCoOFaNgToDu"
   },
   "outputs": [],
   "source": []
  }
 ],
 "metadata": {
  "accelerator": "GPU",
  "colab": {
   "authorship_tag": "ABX9TyPWQ9kg/w23HBM+ruRe1tkb",
   "collapsed_sections": [],
   "name": "Character news(full doc) transfer learning.ipynb",
   "provenance": []
  },
  "kernelspec": {
   "display_name": "Python 3 (ipykernel)",
   "language": "python",
   "name": "python3"
  },
  "language_info": {
   "codemirror_mode": {
    "name": "ipython",
    "version": 3
   },
   "file_extension": ".py",
   "mimetype": "text/x-python",
   "name": "python",
   "nbconvert_exporter": "python",
   "pygments_lexer": "ipython3",
   "version": "3.10.9"
  }
 },
 "nbformat": 4,
 "nbformat_minor": 1
}
